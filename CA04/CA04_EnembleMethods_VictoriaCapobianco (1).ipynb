{
  "nbformat": 4,
  "nbformat_minor": 0,
  "metadata": {
    "colab": {
      "name": "CA04-EnembleMethods-VictoriaCapobianco.ipynb",
      "provenance": []
    },
    "kernelspec": {
      "name": "python3",
      "display_name": "Python 3"
    }
  },
  "cells": [
    {
      "cell_type": "markdown",
      "metadata": {
        "id": "S0pG3d3XkDLf"
      },
      "source": [
        "CA04-Ensemble Models"
      ]
    },
    {
      "cell_type": "markdown",
      "metadata": {
        "id": "YEAqnpRGkImy"
      },
      "source": [
        "Part 1. Upload & Encode Data\r\n"
      ]
    },
    {
      "cell_type": "code",
      "metadata": {
        "id": "iFjSxb0kkQKf"
      },
      "source": [
        "#import necessary packages \r\n",
        "import pandas as pd\r\n",
        "import numpy as np\r\n",
        "import matplotlib.pyplot as plt"
      ],
      "execution_count": null,
      "outputs": []
    },
    {
      "cell_type": "code",
      "metadata": {
        "id": "jTQrJkBjkCjA"
      },
      "source": [
        "#read csv file as dataframe \r\n",
        "df = pd.read_csv('census_data.csv')\r\n",
        "#split data into train and test \r\n",
        "df_train = df[df['flag']=='train']\r\n",
        "df_test = df[df['flag']=='test']"
      ],
      "execution_count": null,
      "outputs": []
    },
    {
      "cell_type": "code",
      "metadata": {
        "id": "5tcIIDVVew9M"
      },
      "source": [
        "# encode categorical columns into numeric \r\n",
        "from sklearn import preprocessing\r\n",
        "le = preprocessing.LabelEncoder()\r\n",
        "census_data_encode_Train = df_train.apply(le.fit_transform) #encode training data\r\n",
        "census_data_encode_Test = df_test.apply(le.fit_transform) #encode testing data"
      ],
      "execution_count": null,
      "outputs": []
    },
    {
      "cell_type": "code",
      "metadata": {
        "id": "Q73Xc8zoXhJk"
      },
      "source": [
        "#create X and Y variables for test and training set\r\n",
        "feature_columns = ['hours_per_week_bin', \r\n",
        "                   'occupation_bin', \r\n",
        "                   'msr_bin', \r\n",
        "                   'capital_gl_bin', \r\n",
        "                   'race_sex_bin', \r\n",
        "                   'education_num_bin', \r\n",
        "                   'education_bin',\r\n",
        "                   'workclass_bin', \r\n",
        "                   'age_bin' ]\r\n",
        "X_train = census_data_encode_Train[feature_columns]\r\n",
        "Y_train = census_data_encode_Train.y\r\n",
        "X_test = census_data_encode_Test[feature_columns]\r\n",
        "Y_test = census_data_encode_Test.y"
      ],
      "execution_count": null,
      "outputs": []
    },
    {
      "cell_type": "markdown",
      "metadata": {
        "id": "rru6Gx_wmfdY"
      },
      "source": [
        "Part 2: Build Random Forest Model"
      ]
    },
    {
      "cell_type": "code",
      "metadata": {
        "id": "nnmo2Uz2milw"
      },
      "source": [
        "#import ensemble method packages from sklearn\r\n",
        "from sklearn.tree import DecisionTreeClassifier\r\n",
        "from sklearn.ensemble import RandomForestClassifier, AdaBoostClassifier, GradientBoostingClassifier\r\n",
        "#RandomForestClassifier:\r\n",
        "clf = RandomForestClassifier(n_estimators = 100,\r\n",
        "                             max_features='auto', random_state = 0)\r\n",
        "clf.fit(X_train, Y_train)\r\n",
        "y_pred = clf.predict(X_test)"
      ],
      "execution_count": null,
      "outputs": []
    },
    {
      "cell_type": "code",
      "metadata": {
        "colab": {
          "base_uri": "https://localhost:8080/",
          "height": 282
        },
        "id": "zWvp83LTo3KK",
        "outputId": "bf24128a-ffb5-4c43-d6fd-06a0ab8af371"
      },
      "source": [
        "#Plot Accuracy v. n_estimator\r\n",
        "results = []\r\n",
        "n_estimator_list = [50,100,150,200,250,300,350,400,450,500]\r\n",
        "for trees in n_estimator_list: #iterate through values in list\r\n",
        "    model = RandomForestClassifier(n_estimators=trees, random_state=101) #use each value as n_estimat to fit model\r\n",
        "    model.fit(X_train, Y_train)\r\n",
        "    y_pred = model.predict(X_test)\r\n",
        "    accuracy = np.mean(Y_test==y_pred)\r\n",
        "    results.append(accuracy) #append accuracy results from each model iteration to list\r\n",
        "\r\n",
        "plt.figure(figsize=(8,4))\r\n",
        "pd.Series(results, n_estimator_list).plot(color=\"darkred\", marker=\"o\") #plot results outcome "
      ],
      "execution_count": null,
      "outputs": [
        {
          "output_type": "execute_result",
          "data": {
            "text/plain": [
              "<matplotlib.axes._subplots.AxesSubplot at 0x7f84815b44d0>"
            ]
          },
          "metadata": {
            "tags": []
          },
          "execution_count": 7
        },
        {
          "output_type": "display_data",
          "data": {
            "image/png": "[encoded data removed]",
            "text/plain": [
              "<Figure size 576x288 with 1 Axes>"
            ]
          },
          "metadata": {
            "tags": [],
            "needs_background": "light"
          }
        }
      ]
    },
    {
      "cell_type": "markdown",
      "metadata": {
        "id": "RCgP6MVdomZz"
      },
      "source": [
        "Part 4: Build AdaBoost, Gradient Boost & XGB"
      ]
    },
    {
      "cell_type": "code",
      "metadata": {
        "id": "1C6oqhdgoirB"
      },
      "source": [
        "#AdaBoost \r\n",
        "clf1 = AdaBoostClassifier(n_estimators=100)\r\n",
        "clf1.fit(X_train,Y_train)\r\n",
        "y_pred = clf.predict(X_test)"
      ],
      "execution_count": null,
      "outputs": []
    },
    {
      "cell_type": "code",
      "metadata": {
        "colab": {
          "base_uri": "https://localhost:8080/",
          "height": 282
        },
        "id": "Ojo5-1erz9bF",
        "outputId": "07b46419-226e-4088-c1d3-319076f3c013"
      },
      "source": [
        "#Plot Accuracy v. n_estimator\r\n",
        "results = []\r\n",
        "n_estimator_list = [50,100,150,200,250,300,350,400,450,500]\r\n",
        "for trees in n_estimator_list: #iterate through values in list\r\n",
        "    model = AdaBoostClassifier(n_estimators=trees, random_state=101) #use each value as n_estimat in model\r\n",
        "    model.fit(X_train, Y_train)\r\n",
        "    y_pred = model.predict(X_test)\r\n",
        "    accuracy = np.mean(Y_test==y_pred)\r\n",
        "    results.append(accuracy) #append accuracy score of each iteration to a list\r\n",
        "\r\n",
        "plt.figure(figsize=(8,4))\r\n",
        "pd.Series(results, n_estimator_list).plot(color=\"darkred\", marker=\"o\") #plot results outcome "
      ],
      "execution_count": null,
      "outputs": [
        {
          "output_type": "execute_result",
          "data": {
            "text/plain": [
              "<matplotlib.axes._subplots.AxesSubplot at 0x7f8481dfbbd0>"
            ]
          },
          "metadata": {
            "tags": []
          },
          "execution_count": 8
        },
        {
          "output_type": "display_data",
          "data": {
            "image/png": "[encoded data removed]",
            "text/plain": [
              "<Figure size 576x288 with 1 Axes>"
            ]
          },
          "metadata": {
            "tags": [],
            "needs_background": "light"
          }
        }
      ]
    },
    {
      "cell_type": "code",
      "metadata": {
        "id": "SLVxMelqor1s"
      },
      "source": [
        "#Gradient Boost\r\n",
        "clf2 = GradientBoostingClassifier(n_estimators = 100, random_state=101)\r\n",
        "clf2.fit(X_train, Y_train)\r\n",
        "y_pred = clf2.predict(X_test)"
      ],
      "execution_count": null,
      "outputs": []
    },
    {
      "cell_type": "code",
      "metadata": {
        "colab": {
          "base_uri": "https://localhost:8080/",
          "height": 282
        },
        "id": "opQsNAQv0eju",
        "outputId": "d1d17f1d-b9c5-4773-90c4-a06679b2a9bc"
      },
      "source": [
        "#Plot Accuracy v. n_estimator\r\n",
        "results = []\r\n",
        "n_estimator_list = [50,100,150,200,250,300,350,400,450,500]\r\n",
        "for trees in n_estimator_list: #iterate through values in list\r\n",
        "    model = GradientBoostingClassifier(n_estimators=trees, random_state=101) #use each value as n_estimat in model\r\n",
        "    model.fit(X_train, Y_train)\r\n",
        "    y_pred = model.predict(X_test)\r\n",
        "    accuracy = np.mean(Y_test==y_pred)\r\n",
        "    results.append(accuracy) #append accuracy score from each model to list\r\n",
        "\r\n",
        "plt.figure(figsize=(8,4))\r\n",
        "pd.Series(results, n_estimator_list).plot(color=\"darkred\", marker=\"o\") #plot outcome of each model score"
      ],
      "execution_count": null,
      "outputs": [
        {
          "output_type": "execute_result",
          "data": {
            "text/plain": [
              "<matplotlib.axes._subplots.AxesSubplot at 0x7f8480ff7210>"
            ]
          },
          "metadata": {
            "tags": []
          },
          "execution_count": 9
        },
        {
          "output_type": "display_data",
          "data": {
            "image/png": "[encoded data removed]",
            "text/plain": [
              "<Figure size 576x288 with 1 Axes>"
            ]
          },
          "metadata": {
            "tags": [],
            "needs_background": "light"
          }
        }
      ]
    },
    {
      "cell_type": "code",
      "metadata": {
        "id": "qaQWE-cBotMN"
      },
      "source": [
        "#XGB\r\n",
        "import xgboost\r\n",
        "from xgboost import XGBRFClassifier\r\n",
        "\r\n",
        "clf3 = XGBRFClassifier(n_estimators = 100)\r\n",
        "clf3.fit(X_train, Y_train)\r\n",
        "y_pred = (X_test)"
      ],
      "execution_count": null,
      "outputs": []
    },
    {
      "cell_type": "code",
      "metadata": {
        "colab": {
          "base_uri": "https://localhost:8080/",
          "height": 282
        },
        "id": "bPSrWUns0z11",
        "outputId": "143ddd09-cc5a-44d2-c1c2-64c28c97876c"
      },
      "source": [
        "#Plot Accuracy v. n_estimator\r\n",
        "results = []\r\n",
        "n_estimator_list = [50,100,150,200,250,300,350,400,450,500]\r\n",
        "for trees in n_estimator_list: #iterate through values in list\r\n",
        "    model = XGBRFClassifier(n_estimators=trees) #use each value as estimator in model\r\n",
        "    model.fit(X_train, Y_train)\r\n",
        "    y_pred = model.predict(X_test)\r\n",
        "    accuracy = np.mean(Y_test==y_pred) \r\n",
        "    results.append(accuracy) #append accuracy score from trained model to list\r\n",
        "\r\n",
        "plt.figure(figsize=(8,4)) \r\n",
        "pd.Series(results, n_estimator_list).plot(color=\"darkred\", marker=\"o\") #plot list of accuracy scores"
      ],
      "execution_count": null,
      "outputs": [
        {
          "output_type": "execute_result",
          "data": {
            "text/plain": [
              "<matplotlib.axes._subplots.AxesSubplot at 0x7f8480f64650>"
            ]
          },
          "metadata": {
            "tags": []
          },
          "execution_count": 13
        },
        {
          "output_type": "display_data",
          "data": {
            "image/png": "[encoded data removed]",
            "text/plain": [
              "<Figure size 576x288 with 1 Axes>"
            ]
          },
          "metadata": {
            "tags": [],
            "needs_background": "light"
          }
        }
      ]
    },
    {
      "cell_type": "markdown",
      "metadata": {
        "id": "8H5E0AyxAxOY"
      },
      "source": [
        "Part 5: Compare Performance"
      ]
    },
    {
      "cell_type": "code",
      "metadata": {
        "id": "QRqR_diu46xb"
      },
      "source": [
        "#import metrics to get Accuracy and AUC scores\r\n",
        "from sklearn import metrics "
      ],
      "execution_count": null,
      "outputs": []
    },
    {
      "cell_type": "code",
      "metadata": {
        "id": "STZEGQCCA4gb"
      },
      "source": [
        "#Create Function to Run Each Model Again:\r\n",
        "\r\n",
        "def random_forest_automation():\r\n",
        "    rf_automate = RandomForestClassifier(n_estimators=100, #use same hyperparameters and define model\r\n",
        "                                        max_features='auto', \r\n",
        "                                        random_state=101)\r\n",
        "    rf_automate.fit(X_train, Y_train) #fit RF model\r\n",
        "    y_pred = rf_automate.predict(X_test)#create prediction\r\n",
        "    rf_accuracy = (metrics.accuracy_score(Y_test, y_pred)) #get accuracy score\r\n",
        "    rf_AUC = (roc_auc_score(Y_test, y_pred)) #get AUC score\r\n",
        "\r\n",
        "    title_scores = [{'Accuracy': rf_accuracy},\r\n",
        "                    {'AUC': rf_AUC}] #add scores to dictionary\r\n",
        "    results = pd.DataFrame(title_scores, index=[{'Accuracu', 'AUC'}]) #transform dictionary into DataFrame \r\n",
        "    return results"
      ],
      "execution_count": null,
      "outputs": []
    },
    {
      "cell_type": "code",
      "metadata": {
        "colab": {
          "base_uri": "https://localhost:8080/"
        },
        "id": "owdniAfnMEp9",
        "outputId": "d9cd9221-45e5-49e2-f610-ea605b82e13c"
      },
      "source": [
        "def AdaBoost_automation():\r\n",
        "    ad_automate = AdaBoostClassifier(n_estimators=100) #define model\r\n",
        "    ad_automate.fit(X_train, Y_train) #fit Ada model\r\n",
        "    y_pred = ad_automate.predict(X_test) #make prediction\r\n",
        "    ad_accuracy = (metrics.accuracy_score(Y_test, y_pred)) #get accuracy score\r\n",
        "    ad_AUC = (metrics.auc(Y_test, y_pred)) #get AUC score\r\n",
        "\r\n",
        "    title_scores = [{'Accuracy':ad_accuracy},\r\n",
        "                    {'AUC':ad_AUC}] #add scores to dictionary\r\n",
        "    results = pd.DataFrame(title_scores, index =[{'Accuracy', 'AUC'}]) #transform dictionary to dataframe\r\n",
        "    return results \r\n",
        "\r\n",
        "AdaBoost_automation"
      ],
      "execution_count": null,
      "outputs": [
        {
          "output_type": "execute_result",
          "data": {
            "text/plain": [
              "<function __main__.AdaBoost_automation>"
            ]
          },
          "metadata": {
            "tags": []
          },
          "execution_count": 59
        }
      ]
    },
    {
      "cell_type": "code",
      "metadata": {
        "colab": {
          "base_uri": "https://localhost:8080/"
        },
        "id": "4S71Jwly6SUl",
        "outputId": "a8b5da8d-d313-41b2-e850-3400a090baeb"
      },
      "source": [
        "def gradient_boost_automation(): \r\n",
        "    gb_automate=GradientBoostingClassifier(n_estimators=100) #define model\r\n",
        "    gb_automate.fit(X_train, Y_train) #fit gb model\r\n",
        "    y_pred = gb_automate.predict(X_test) #make prediction\r\n",
        "    gb_accuracy = (metrics.accuracy_score(Y_test, y_pred)) #get accuracy score\r\n",
        "    gb_AUC = (metrics.auc(Y_test, y_pred)) #get AUC score\r\n",
        "\r\n",
        "    title_scores = [{'Accuracy':gb_accuracy}, #add scores to dictionary\r\n",
        "                    {'AUC':gb_AUC}]\r\n",
        "    results = pd.DataFrame(title_scores, index=[{'Accuracy', 'AUC'}]) #transform dictionary into dataframe\r\n",
        "    return results \r\n",
        "\r\n",
        "gradient_boost_automation"
      ],
      "execution_count": null,
      "outputs": [
        {
          "output_type": "execute_result",
          "data": {
            "text/plain": [
              "<function __main__.gradient_boost_automation>"
            ]
          },
          "metadata": {
            "tags": []
          },
          "execution_count": 57
        }
      ]
    },
    {
      "cell_type": "code",
      "metadata": {
        "colab": {
          "base_uri": "https://localhost:8080/"
        },
        "id": "1OlcwT1n8KuE",
        "outputId": "3fbec2eb-c19f-4fe7-fad5-bb6f4e09028d"
      },
      "source": [
        "def xgb_automation():\r\n",
        "    xg_automate=XGBRFClassifier(n_estimators=100)\r\n",
        "    xg_automate.fit(X_train, Y_train) #fit xg model\r\n",
        "    y_pred = xg_automate.predict(X_test) #make prediction\r\n",
        "    xg_accuracy = (metrics.accuracy_score(Y_test, y_pred)) #get accuracy score\r\n",
        "    xg_AUC=(metrics.auc(Y_test, y_pred)) #get AUC score\r\n",
        "\r\n",
        "    title_scores = [{'Accuracy': xg_accuracy}, #add scores to dictionary\r\n",
        "            {'AUC': xg_AUC}]\r\n",
        "    results = pd.DataFrame(title_scores, index =[{'Accuracy', 'AUC'}]) #transform dictionary to dataframe\r\n",
        "    return results\r\n",
        "\r\n",
        "xgb_automation"
      ],
      "execution_count": null,
      "outputs": [
        {
          "output_type": "execute_result",
          "data": {
            "text/plain": [
              "<function __main__.xgb_automation>"
            ]
          },
          "metadata": {
            "tags": []
          },
          "execution_count": 56
        }
      ]
    },
    {
      "cell_type": "code",
      "metadata": {
        "colab": {
          "base_uri": "https://localhost:8080/",
          "height": 387
        },
        "id": "I-9Xwk0f89n6",
        "outputId": "8b92933c-456f-4e56-dd60-c28c972c99e5"
      },
      "source": [
        "#Create Performance Comparison Table \r\n",
        "comparison = pd.concat([random_forest_automation, AdaBoost_automation, gradient_boost_automation, xgb_automation]) \r\n",
        "#concat results of all DF's together\r\n",
        "comparison.columns=['Random Forest', 'AdaBoost', 'Gradient Boost', 'XGB'] #set column headings \r\n",
        "print(comparison) #show DataFrame"
      ],
      "execution_count": null,
      "outputs": [
        {
          "output_type": "error",
          "ename": "TypeError",
          "evalue": "ignored",
          "traceback": [
            "\u001b[0;31m---------------------------------------------------------------------------\u001b[0m",
            "\u001b[0;31mTypeError\u001b[0m                                 Traceback (most recent call last)",
            "\u001b[0;32m<ipython-input-61-0c36bf12ca62>\u001b[0m in \u001b[0;36m<module>\u001b[0;34m()\u001b[0m\n\u001b[1;32m      1\u001b[0m \u001b[0;31m#Create Performance Comparison Table\u001b[0m\u001b[0;34m\u001b[0m\u001b[0;34m\u001b[0m\u001b[0;34m\u001b[0m\u001b[0m\n\u001b[0;32m----> 2\u001b[0;31m \u001b[0mcomparison\u001b[0m \u001b[0;34m=\u001b[0m \u001b[0mpd\u001b[0m\u001b[0;34m.\u001b[0m\u001b[0mconcat\u001b[0m\u001b[0;34m(\u001b[0m\u001b[0;34m[\u001b[0m\u001b[0mrandom_forest_automation\u001b[0m\u001b[0;34m,\u001b[0m \u001b[0mAdaBoost_automation\u001b[0m\u001b[0;34m,\u001b[0m \u001b[0mgradient_boost_automation\u001b[0m\u001b[0;34m,\u001b[0m \u001b[0mxgb_automation\u001b[0m\u001b[0;34m]\u001b[0m\u001b[0;34m)\u001b[0m\u001b[0;34m\u001b[0m\u001b[0;34m\u001b[0m\u001b[0m\n\u001b[0m\u001b[1;32m      3\u001b[0m \u001b[0;31m#concat results of all DF's together\u001b[0m\u001b[0;34m\u001b[0m\u001b[0;34m\u001b[0m\u001b[0;34m\u001b[0m\u001b[0m\n\u001b[1;32m      4\u001b[0m \u001b[0mcomparison\u001b[0m\u001b[0;34m.\u001b[0m\u001b[0mcolumns\u001b[0m\u001b[0;34m=\u001b[0m\u001b[0;34m[\u001b[0m\u001b[0;34m'Random Forest'\u001b[0m\u001b[0;34m,\u001b[0m \u001b[0;34m'AdaBoost'\u001b[0m\u001b[0;34m,\u001b[0m \u001b[0;34m'Gradient Boost'\u001b[0m\u001b[0;34m,\u001b[0m \u001b[0;34m'XGB'\u001b[0m\u001b[0;34m]\u001b[0m \u001b[0;31m#set column headings\u001b[0m\u001b[0;34m\u001b[0m\u001b[0;34m\u001b[0m\u001b[0m\n\u001b[1;32m      5\u001b[0m \u001b[0mprint\u001b[0m\u001b[0;34m(\u001b[0m\u001b[0mcomparison\u001b[0m\u001b[0;34m)\u001b[0m\u001b[0;34m\u001b[0m\u001b[0;34m\u001b[0m\u001b[0m\n",
            "\u001b[0;32m/usr/local/lib/python3.7/dist-packages/pandas/core/reshape/concat.py\u001b[0m in \u001b[0;36mconcat\u001b[0;34m(objs, axis, join, ignore_index, keys, levels, names, verify_integrity, sort, copy)\u001b[0m\n\u001b[1;32m    282\u001b[0m         \u001b[0mverify_integrity\u001b[0m\u001b[0;34m=\u001b[0m\u001b[0mverify_integrity\u001b[0m\u001b[0;34m,\u001b[0m\u001b[0;34m\u001b[0m\u001b[0;34m\u001b[0m\u001b[0m\n\u001b[1;32m    283\u001b[0m         \u001b[0mcopy\u001b[0m\u001b[0;34m=\u001b[0m\u001b[0mcopy\u001b[0m\u001b[0;34m,\u001b[0m\u001b[0;34m\u001b[0m\u001b[0;34m\u001b[0m\u001b[0m\n\u001b[0;32m--> 284\u001b[0;31m         \u001b[0msort\u001b[0m\u001b[0;34m=\u001b[0m\u001b[0msort\u001b[0m\u001b[0;34m,\u001b[0m\u001b[0;34m\u001b[0m\u001b[0;34m\u001b[0m\u001b[0m\n\u001b[0m\u001b[1;32m    285\u001b[0m     )\n\u001b[1;32m    286\u001b[0m \u001b[0;34m\u001b[0m\u001b[0m\n",
            "\u001b[0;32m/usr/local/lib/python3.7/dist-packages/pandas/core/reshape/concat.py\u001b[0m in \u001b[0;36m__init__\u001b[0;34m(self, objs, axis, join, keys, levels, names, ignore_index, verify_integrity, copy, sort)\u001b[0m\n\u001b[1;32m    357\u001b[0m                     \u001b[0;34m\"only Series and DataFrame objs are valid\"\u001b[0m\u001b[0;34m\u001b[0m\u001b[0;34m\u001b[0m\u001b[0m\n\u001b[1;32m    358\u001b[0m                 )\n\u001b[0;32m--> 359\u001b[0;31m                 \u001b[0;32mraise\u001b[0m \u001b[0mTypeError\u001b[0m\u001b[0;34m(\u001b[0m\u001b[0mmsg\u001b[0m\u001b[0;34m)\u001b[0m\u001b[0;34m\u001b[0m\u001b[0;34m\u001b[0m\u001b[0m\n\u001b[0m\u001b[1;32m    360\u001b[0m \u001b[0;34m\u001b[0m\u001b[0m\n\u001b[1;32m    361\u001b[0m             \u001b[0;31m# consolidate\u001b[0m\u001b[0;34m\u001b[0m\u001b[0;34m\u001b[0m\u001b[0;34m\u001b[0m\u001b[0m\n",
            "\u001b[0;31mTypeError\u001b[0m: cannot concatenate object of type '<class 'function'>'; only Series and DataFrame objs are valid"
          ]
        }
      ]
    }
  ]
}