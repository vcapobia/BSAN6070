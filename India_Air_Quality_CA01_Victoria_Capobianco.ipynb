{
  "nbformat": 4,
  "nbformat_minor": 0,
  "metadata": {
    "kernelspec": {
      "display_name": "Python 3",
      "language": "python",
      "name": "python3"
    },
    "language_info": {
      "codemirror_mode": {
        "name": "ipython",
        "version": 3
      },
      "file_extension": ".py",
      "mimetype": "text/x-python",
      "name": "python",
      "nbconvert_exporter": "python",
      "pygments_lexer": "ipython3",
      "version": "3.8.3"
    },
    "colab": {
      "name": "India Air Quality-CA01-Victoria-Capobianco.ipynb",
      "provenance": [],
      "toc_visible": true,
      "include_colab_link": true
    }
  },
  "cells": [
    {
      "cell_type": "markdown",
      "metadata": {
        "id": "view-in-github",
        "colab_type": "text"
      },
      "source": [
        "<a href=\"https://colab.research.google.com/github/vcapobia/BSAN6070/blob/main/India_Air_Quality_CA01_Victoria_Capobianco.ipynb\" target=\"_parent\"><img src=\"https://colab.research.google.com/assets/colab-badge.svg\" alt=\"Open In Colab\"/></a>"
      ]
    },
    {
      "cell_type": "markdown",
      "metadata": {
        "id": "H4FBcVOOVJlO"
      },
      "source": [
        "# Your name: Victoria Capobianco\n",
        "## Assignment Name: CA01 - Data Cleaning and Exploration of India Air Quality"
      ]
    },
    {
      "cell_type": "markdown",
      "metadata": {
        "id": "yXghcFPaVJlW"
      },
      "source": [
        "# Program Inititialization Section\n",
        "## Enter your import packages here"
      ]
    },
    {
      "cell_type": "code",
      "metadata": {
        "id": "If-WlCKHVJlW"
      },
      "source": [
        "# import packages \n",
        "import pandas as pd\n",
        "import numpy as np\n"
      ],
      "execution_count": 69,
      "outputs": []
    },
    {
      "cell_type": "markdown",
      "metadata": {
        "id": "llLzbQkDVJlX"
      },
      "source": [
        "# Data File Reading Section\n",
        "## Write code to read in data from external sources here"
      ]
    },
    {
      "cell_type": "code",
      "metadata": {
        "colab": {
          "base_uri": "https://localhost:8080/"
        },
        "id": "_jFQbJoQVJlX",
        "outputId": "ff47e05a-facb-412d-f1fe-d35e7af9d806"
      },
      "source": [
        "#read dataset into dataframe\n",
        "data=pd.read_csv('BSAN6060-CA01-Data.csv')\n",
        "\n",
        "\n",
        "\n"
      ],
      "execution_count": 70,
      "outputs": [
        {
          "output_type": "stream",
          "text": [
            "/usr/local/lib/python3.6/dist-packages/IPython/core/interactiveshell.py:2718: DtypeWarning: Columns (0) have mixed types.Specify dtype option on import or set low_memory=False.\n",
            "  interactivity=interactivity, compiler=compiler, result=result)\n"
          ],
          "name": "stderr"
        }
      ]
    },
    {
      "cell_type": "markdown",
      "metadata": {
        "id": "YA_rb6NeVJlY"
      },
      "source": [
        "# Initial Data Investigation Section\n",
        "\n",
        "## Summarized details\n",
        "### Generate descriptive statistics that summarize the central tendency, dispersion, and shape of a dataset’s distribution, excluding NaN values.\n",
        "#### Steps:\n",
        "#### 1. Statistical Description of data (data.describe)\n",
        "#### 2. Display number of total rows and columns of the dataset (data.shape)\n",
        "#### 3. Display number of non-null values for each column (data.count)\n",
        "#### 4. Display number of null values for each column (sum of data.isnull)\n",
        "#### 5. Display range, column, number of non-null objects of each column, datatype and memory usage (data.info)\n",
        "#### 6. Display Top 10 and Bottom 10 records (head and tail)"
      ]
    },
    {
      "cell_type": "code",
      "metadata": {
        "scrolled": false,
        "id": "JTtOGxGDVJlZ",
        "colab": {
          "base_uri": "https://localhost:8080/",
          "height": 699
        },
        "outputId": "ac140b83-2f1f-4939-c05f-41155c3b480e"
      },
      "source": [
        "#Summarise Details of Data\r\n",
        "\r\n",
        "#1. statistical description\r\n",
        "data.describe()\r\n",
        "#2. total # of rows/cols\r\n",
        "data.shape\r\n",
        "#3. # of non-null per column\r\n",
        "data.count()\r\n",
        "#4. sum of null values per column\r\n",
        "data.isnull().sum()\r\n",
        "#5. range, column, number of non-null obj, dtypes, memusage\r\n",
        "data.info()\r\n",
        "#6. top 10 records\r\n",
        "data.head(10)\r\n",
        "#bottom 10 records\r\n",
        "data.tail(10)"
      ],
      "execution_count": 71,
      "outputs": [
        {
          "output_type": "stream",
          "text": [
            "<class 'pandas.core.frame.DataFrame'>\n",
            "RangeIndex: 435742 entries, 0 to 435741\n",
            "Data columns (total 13 columns):\n",
            " #   Column                       Non-Null Count   Dtype  \n",
            "---  ------                       --------------   -----  \n",
            " 0   stn_code                     291665 non-null  object \n",
            " 1   sampling_date                435739 non-null  object \n",
            " 2   state                        435742 non-null  object \n",
            " 3   location                     435739 non-null  object \n",
            " 4   agency                       286261 non-null  object \n",
            " 5   type                         430349 non-null  object \n",
            " 6   so2                          401096 non-null  float64\n",
            " 7   no2                          419509 non-null  float64\n",
            " 8   rspm                         395520 non-null  float64\n",
            " 9   spm                          198355 non-null  float64\n",
            " 10  location_monitoring_station  408251 non-null  object \n",
            " 11  pm2_5                        9314 non-null    float64\n",
            " 12  date                         435735 non-null  object \n",
            "dtypes: float64(5), object(8)\n",
            "memory usage: 43.2+ MB\n"
          ],
          "name": "stdout"
        },
        {
          "output_type": "execute_result",
          "data": {
            "text/html": [
              "<div>\n",
              "<style scoped>\n",
              "    .dataframe tbody tr th:only-of-type {\n",
              "        vertical-align: middle;\n",
              "    }\n",
              "\n",
              "    .dataframe tbody tr th {\n",
              "        vertical-align: top;\n",
              "    }\n",
              "\n",
              "    .dataframe thead th {\n",
              "        text-align: right;\n",
              "    }\n",
              "</style>\n",
              "<table border=\"1\" class=\"dataframe\">\n",
              "  <thead>\n",
              "    <tr style=\"text-align: right;\">\n",
              "      <th></th>\n",
              "      <th>stn_code</th>\n",
              "      <th>sampling_date</th>\n",
              "      <th>state</th>\n",
              "      <th>location</th>\n",
              "      <th>agency</th>\n",
              "      <th>type</th>\n",
              "      <th>so2</th>\n",
              "      <th>no2</th>\n",
              "      <th>rspm</th>\n",
              "      <th>spm</th>\n",
              "      <th>location_monitoring_station</th>\n",
              "      <th>pm2_5</th>\n",
              "      <th>date</th>\n",
              "    </tr>\n",
              "  </thead>\n",
              "  <tbody>\n",
              "    <tr>\n",
              "      <th>435732</th>\n",
              "      <td>SAMP</td>\n",
              "      <td>9/12/2015</td>\n",
              "      <td>West Bengal</td>\n",
              "      <td>ULUBERIA</td>\n",
              "      <td>West Bengal State Pollution Control Board</td>\n",
              "      <td>RIRUO</td>\n",
              "      <td>22.0</td>\n",
              "      <td>50.0</td>\n",
              "      <td>145.0</td>\n",
              "      <td>NaN</td>\n",
              "      <td>Inside Rampal Industries,ULUBERIA</td>\n",
              "      <td>NaN</td>\n",
              "      <td>12/9/2015</td>\n",
              "    </tr>\n",
              "    <tr>\n",
              "      <th>435733</th>\n",
              "      <td>SAMP</td>\n",
              "      <td>12/12/2015</td>\n",
              "      <td>West Bengal</td>\n",
              "      <td>ULUBERIA</td>\n",
              "      <td>West Bengal State Pollution Control Board</td>\n",
              "      <td>RIRUO</td>\n",
              "      <td>34.0</td>\n",
              "      <td>61.0</td>\n",
              "      <td>161.0</td>\n",
              "      <td>NaN</td>\n",
              "      <td>Inside Rampal Industries,ULUBERIA</td>\n",
              "      <td>NaN</td>\n",
              "      <td>12/12/2015</td>\n",
              "    </tr>\n",
              "    <tr>\n",
              "      <th>435734</th>\n",
              "      <td>SAMP</td>\n",
              "      <td>15-12-15</td>\n",
              "      <td>West Bengal</td>\n",
              "      <td>ULUBERIA</td>\n",
              "      <td>West Bengal State Pollution Control Board</td>\n",
              "      <td>RIRUO</td>\n",
              "      <td>20.0</td>\n",
              "      <td>44.0</td>\n",
              "      <td>148.0</td>\n",
              "      <td>NaN</td>\n",
              "      <td>Inside Rampal Industries,ULUBERIA</td>\n",
              "      <td>NaN</td>\n",
              "      <td>12/15/2015</td>\n",
              "    </tr>\n",
              "    <tr>\n",
              "      <th>435735</th>\n",
              "      <td>SAMP</td>\n",
              "      <td>18-12-15</td>\n",
              "      <td>West Bengal</td>\n",
              "      <td>ULUBERIA</td>\n",
              "      <td>West Bengal State Pollution Control Board</td>\n",
              "      <td>RIRUO</td>\n",
              "      <td>17.0</td>\n",
              "      <td>44.0</td>\n",
              "      <td>131.0</td>\n",
              "      <td>NaN</td>\n",
              "      <td>Inside Rampal Industries,ULUBERIA</td>\n",
              "      <td>NaN</td>\n",
              "      <td>12/18/2015</td>\n",
              "    </tr>\n",
              "    <tr>\n",
              "      <th>435736</th>\n",
              "      <td>SAMP</td>\n",
              "      <td>21-12-15</td>\n",
              "      <td>West Bengal</td>\n",
              "      <td>ULUBERIA</td>\n",
              "      <td>West Bengal State Pollution Control Board</td>\n",
              "      <td>RIRUO</td>\n",
              "      <td>18.0</td>\n",
              "      <td>45.0</td>\n",
              "      <td>140.0</td>\n",
              "      <td>NaN</td>\n",
              "      <td>Inside Rampal Industries,ULUBERIA</td>\n",
              "      <td>NaN</td>\n",
              "      <td>12/21/2015</td>\n",
              "    </tr>\n",
              "    <tr>\n",
              "      <th>435737</th>\n",
              "      <td>SAMP</td>\n",
              "      <td>24-12-15</td>\n",
              "      <td>West Bengal</td>\n",
              "      <td>ULUBERIA</td>\n",
              "      <td>West Bengal State Pollution Control Board</td>\n",
              "      <td>RIRUO</td>\n",
              "      <td>22.0</td>\n",
              "      <td>50.0</td>\n",
              "      <td>143.0</td>\n",
              "      <td>NaN</td>\n",
              "      <td>Inside Rampal Industries,ULUBERIA</td>\n",
              "      <td>NaN</td>\n",
              "      <td>12/24/2015</td>\n",
              "    </tr>\n",
              "    <tr>\n",
              "      <th>435738</th>\n",
              "      <td>SAMP</td>\n",
              "      <td>29-12-15</td>\n",
              "      <td>West Bengal</td>\n",
              "      <td>ULUBERIA</td>\n",
              "      <td>West Bengal State Pollution Control Board</td>\n",
              "      <td>RIRUO</td>\n",
              "      <td>20.0</td>\n",
              "      <td>46.0</td>\n",
              "      <td>171.0</td>\n",
              "      <td>NaN</td>\n",
              "      <td>Inside Rampal Industries,ULUBERIA</td>\n",
              "      <td>NaN</td>\n",
              "      <td>12/29/2015</td>\n",
              "    </tr>\n",
              "    <tr>\n",
              "      <th>435739</th>\n",
              "      <td>NaN</td>\n",
              "      <td>NaN</td>\n",
              "      <td>andaman-and-nicobar-islands</td>\n",
              "      <td>NaN</td>\n",
              "      <td>NaN</td>\n",
              "      <td>NaN</td>\n",
              "      <td>NaN</td>\n",
              "      <td>NaN</td>\n",
              "      <td>NaN</td>\n",
              "      <td>NaN</td>\n",
              "      <td>NaN</td>\n",
              "      <td>NaN</td>\n",
              "      <td>NaN</td>\n",
              "    </tr>\n",
              "    <tr>\n",
              "      <th>435740</th>\n",
              "      <td>NaN</td>\n",
              "      <td>NaN</td>\n",
              "      <td>Lakshadweep</td>\n",
              "      <td>NaN</td>\n",
              "      <td>NaN</td>\n",
              "      <td>NaN</td>\n",
              "      <td>NaN</td>\n",
              "      <td>NaN</td>\n",
              "      <td>NaN</td>\n",
              "      <td>NaN</td>\n",
              "      <td>NaN</td>\n",
              "      <td>NaN</td>\n",
              "      <td>NaN</td>\n",
              "    </tr>\n",
              "    <tr>\n",
              "      <th>435741</th>\n",
              "      <td>NaN</td>\n",
              "      <td>NaN</td>\n",
              "      <td>Tripura</td>\n",
              "      <td>NaN</td>\n",
              "      <td>NaN</td>\n",
              "      <td>NaN</td>\n",
              "      <td>NaN</td>\n",
              "      <td>NaN</td>\n",
              "      <td>NaN</td>\n",
              "      <td>NaN</td>\n",
              "      <td>NaN</td>\n",
              "      <td>NaN</td>\n",
              "      <td>NaN</td>\n",
              "    </tr>\n",
              "  </tbody>\n",
              "</table>\n",
              "</div>"
            ],
            "text/plain": [
              "       stn_code sampling_date  ... pm2_5        date\n",
              "435732     SAMP     9/12/2015  ...   NaN   12/9/2015\n",
              "435733     SAMP    12/12/2015  ...   NaN  12/12/2015\n",
              "435734     SAMP      15-12-15  ...   NaN  12/15/2015\n",
              "435735     SAMP      18-12-15  ...   NaN  12/18/2015\n",
              "435736     SAMP      21-12-15  ...   NaN  12/21/2015\n",
              "435737     SAMP      24-12-15  ...   NaN  12/24/2015\n",
              "435738     SAMP      29-12-15  ...   NaN  12/29/2015\n",
              "435739      NaN           NaN  ...   NaN         NaN\n",
              "435740      NaN           NaN  ...   NaN         NaN\n",
              "435741      NaN           NaN  ...   NaN         NaN\n",
              "\n",
              "[10 rows x 13 columns]"
            ]
          },
          "metadata": {
            "tags": []
          },
          "execution_count": 71
        }
      ]
    },
    {
      "cell_type": "markdown",
      "metadata": {
        "id": "MXreeDvvVJlZ"
      },
      "source": [
        "## Cleansing the dataset\n",
        "### Dropping of less valued columns:\n",
        "1. stn_code, agency, sampling_date, location_monitoring_agency do not add much value to the dataset in terms of information. Therefore, we can drop those columns.\n",
        "\n",
        "2. Dropping rows where no date is available."
      ]
    },
    {
      "cell_type": "code",
      "metadata": {
        "id": "VK4t1-xVVJlZ",
        "colab": {
          "base_uri": "https://localhost:8080/",
          "height": 359
        },
        "outputId": "4470bc26-ab53-4cdb-9387-10c162207f27"
      },
      "source": [
        "# Cleaning up the data\n",
        "\n",
        "#1. dropping columns that aren't required\n",
        "data.drop(['stn_code', 'sampling_date', 'location_monitoring_station'], axis=1, inplace=True)\n",
        "\n",
        "#2. dropping rows where no date is available\n",
        "data.drop(data[data['date'] == 'NaN'].index, inplace=True)\n",
        "data.head(10)"
      ],
      "execution_count": 72,
      "outputs": [
        {
          "output_type": "execute_result",
          "data": {
            "text/html": [
              "<div>\n",
              "<style scoped>\n",
              "    .dataframe tbody tr th:only-of-type {\n",
              "        vertical-align: middle;\n",
              "    }\n",
              "\n",
              "    .dataframe tbody tr th {\n",
              "        vertical-align: top;\n",
              "    }\n",
              "\n",
              "    .dataframe thead th {\n",
              "        text-align: right;\n",
              "    }\n",
              "</style>\n",
              "<table border=\"1\" class=\"dataframe\">\n",
              "  <thead>\n",
              "    <tr style=\"text-align: right;\">\n",
              "      <th></th>\n",
              "      <th>state</th>\n",
              "      <th>location</th>\n",
              "      <th>agency</th>\n",
              "      <th>type</th>\n",
              "      <th>so2</th>\n",
              "      <th>no2</th>\n",
              "      <th>rspm</th>\n",
              "      <th>spm</th>\n",
              "      <th>pm2_5</th>\n",
              "      <th>date</th>\n",
              "    </tr>\n",
              "  </thead>\n",
              "  <tbody>\n",
              "    <tr>\n",
              "      <th>0</th>\n",
              "      <td>Andhra Pradesh</td>\n",
              "      <td>Hyderabad</td>\n",
              "      <td>NaN</td>\n",
              "      <td>Residential, Rural and other Areas</td>\n",
              "      <td>4.8</td>\n",
              "      <td>17.4</td>\n",
              "      <td>NaN</td>\n",
              "      <td>NaN</td>\n",
              "      <td>NaN</td>\n",
              "      <td>2/1/1990</td>\n",
              "    </tr>\n",
              "    <tr>\n",
              "      <th>1</th>\n",
              "      <td>Andhra Pradesh</td>\n",
              "      <td>Hyderabad</td>\n",
              "      <td>NaN</td>\n",
              "      <td>Industrial Area</td>\n",
              "      <td>3.1</td>\n",
              "      <td>7.0</td>\n",
              "      <td>NaN</td>\n",
              "      <td>NaN</td>\n",
              "      <td>NaN</td>\n",
              "      <td>2/1/1990</td>\n",
              "    </tr>\n",
              "    <tr>\n",
              "      <th>2</th>\n",
              "      <td>Andhra Pradesh</td>\n",
              "      <td>Hyderabad</td>\n",
              "      <td>NaN</td>\n",
              "      <td>Residential, Rural and other Areas</td>\n",
              "      <td>6.2</td>\n",
              "      <td>28.5</td>\n",
              "      <td>NaN</td>\n",
              "      <td>NaN</td>\n",
              "      <td>NaN</td>\n",
              "      <td>2/1/1990</td>\n",
              "    </tr>\n",
              "    <tr>\n",
              "      <th>3</th>\n",
              "      <td>Andhra Pradesh</td>\n",
              "      <td>Hyderabad</td>\n",
              "      <td>NaN</td>\n",
              "      <td>Residential, Rural and other Areas</td>\n",
              "      <td>6.3</td>\n",
              "      <td>14.7</td>\n",
              "      <td>NaN</td>\n",
              "      <td>NaN</td>\n",
              "      <td>NaN</td>\n",
              "      <td>3/1/1990</td>\n",
              "    </tr>\n",
              "    <tr>\n",
              "      <th>4</th>\n",
              "      <td>Andhra Pradesh</td>\n",
              "      <td>Hyderabad</td>\n",
              "      <td>NaN</td>\n",
              "      <td>Industrial Area</td>\n",
              "      <td>4.7</td>\n",
              "      <td>7.5</td>\n",
              "      <td>NaN</td>\n",
              "      <td>NaN</td>\n",
              "      <td>NaN</td>\n",
              "      <td>3/1/1990</td>\n",
              "    </tr>\n",
              "    <tr>\n",
              "      <th>5</th>\n",
              "      <td>Andhra Pradesh</td>\n",
              "      <td>Hyderabad</td>\n",
              "      <td>NaN</td>\n",
              "      <td>Residential, Rural and other Areas</td>\n",
              "      <td>6.4</td>\n",
              "      <td>25.7</td>\n",
              "      <td>NaN</td>\n",
              "      <td>NaN</td>\n",
              "      <td>NaN</td>\n",
              "      <td>3/1/1990</td>\n",
              "    </tr>\n",
              "    <tr>\n",
              "      <th>6</th>\n",
              "      <td>Andhra Pradesh</td>\n",
              "      <td>Hyderabad</td>\n",
              "      <td>NaN</td>\n",
              "      <td>Residential, Rural and other Areas</td>\n",
              "      <td>5.4</td>\n",
              "      <td>17.1</td>\n",
              "      <td>NaN</td>\n",
              "      <td>NaN</td>\n",
              "      <td>NaN</td>\n",
              "      <td>4/1/1990</td>\n",
              "    </tr>\n",
              "    <tr>\n",
              "      <th>7</th>\n",
              "      <td>Andhra Pradesh</td>\n",
              "      <td>Hyderabad</td>\n",
              "      <td>NaN</td>\n",
              "      <td>Industrial Area</td>\n",
              "      <td>4.7</td>\n",
              "      <td>8.7</td>\n",
              "      <td>NaN</td>\n",
              "      <td>NaN</td>\n",
              "      <td>NaN</td>\n",
              "      <td>4/1/1990</td>\n",
              "    </tr>\n",
              "    <tr>\n",
              "      <th>8</th>\n",
              "      <td>Andhra Pradesh</td>\n",
              "      <td>Hyderabad</td>\n",
              "      <td>NaN</td>\n",
              "      <td>Residential, Rural and other Areas</td>\n",
              "      <td>4.2</td>\n",
              "      <td>23.0</td>\n",
              "      <td>NaN</td>\n",
              "      <td>NaN</td>\n",
              "      <td>NaN</td>\n",
              "      <td>4/1/1990</td>\n",
              "    </tr>\n",
              "    <tr>\n",
              "      <th>9</th>\n",
              "      <td>Andhra Pradesh</td>\n",
              "      <td>Hyderabad</td>\n",
              "      <td>NaN</td>\n",
              "      <td>Industrial Area</td>\n",
              "      <td>4.0</td>\n",
              "      <td>8.9</td>\n",
              "      <td>NaN</td>\n",
              "      <td>NaN</td>\n",
              "      <td>NaN</td>\n",
              "      <td>5/1/1990</td>\n",
              "    </tr>\n",
              "  </tbody>\n",
              "</table>\n",
              "</div>"
            ],
            "text/plain": [
              "            state   location agency  ... spm  pm2_5      date\n",
              "0  Andhra Pradesh  Hyderabad    NaN  ... NaN    NaN  2/1/1990\n",
              "1  Andhra Pradesh  Hyderabad    NaN  ... NaN    NaN  2/1/1990\n",
              "2  Andhra Pradesh  Hyderabad    NaN  ... NaN    NaN  2/1/1990\n",
              "3  Andhra Pradesh  Hyderabad    NaN  ... NaN    NaN  3/1/1990\n",
              "4  Andhra Pradesh  Hyderabad    NaN  ... NaN    NaN  3/1/1990\n",
              "5  Andhra Pradesh  Hyderabad    NaN  ... NaN    NaN  3/1/1990\n",
              "6  Andhra Pradesh  Hyderabad    NaN  ... NaN    NaN  4/1/1990\n",
              "7  Andhra Pradesh  Hyderabad    NaN  ... NaN    NaN  4/1/1990\n",
              "8  Andhra Pradesh  Hyderabad    NaN  ... NaN    NaN  4/1/1990\n",
              "9  Andhra Pradesh  Hyderabad    NaN  ... NaN    NaN  5/1/1990\n",
              "\n",
              "[10 rows x 10 columns]"
            ]
          },
          "metadata": {
            "tags": []
          },
          "execution_count": 72
        }
      ]
    },
    {
      "cell_type": "markdown",
      "metadata": {
        "id": "evXP69u1VJla"
      },
      "source": [
        "### Changing the types to uniform format:\n",
        "\n",
        "Notice that the ‘type’ column has values such as ‘Industrial Area’ and ‘Industrial Areas’ — both actually mean the same, so let’s remove such type of stuff and make it uniform. Replace the 'type' values with standard codes as follows:\n",
        "\n",
        "types = {\n",
        "    \"Residential\": \"R\",\n",
        "    \"Residential and others\": \"RO\",\n",
        "    \"Residential, Rural and other Areas\": \"RRO\",\n",
        "    \"Industrial Area\": \"I\",\n",
        "    \"Industrial Areas\": \"I\",\n",
        "    \"Industrial\": \"I\",\n",
        "    \"Sensitive Area\": \"S\",\n",
        "    \"Sensitive Areas\": \"S\",\n",
        "    \"Sensitive\": \"S\",\n",
        "    np.nan: \"RRO\"\n",
        "}\n",
        "\n",
        "data.type = data.type.replace(types)"
      ]
    },
    {
      "cell_type": "code",
      "metadata": {
        "id": "BofeCiG8VJla"
      },
      "source": [
        "#replace types\n",
        "data.type= data.type.replace({\"Residential\":\"R\", \n",
        "                              \"Residential and others\": \"RO\", \n",
        "                              \"Residential, Rural and other Areas\":\"RRO\", \n",
        "                              \"Industrial Area\":\"I\", \n",
        "                              \"Industrial Areas\":\"I\", \n",
        "                              \"Industrial\":\"I\", \n",
        "                              \"Sensitive Area\":\"S\",\n",
        "                              \"Sensitive Areas\":\"S\",\n",
        "                              np.nan:\"RRO\"})\n"
      ],
      "execution_count": 73,
      "outputs": []
    },
    {
      "cell_type": "code",
      "metadata": {
        "id": "g1aLP6FSVJlb",
        "colab": {
          "base_uri": "https://localhost:8080/",
          "height": 359
        },
        "outputId": "fd1cb0aa-c01b-4872-96a8-555b536f4848"
      },
      "source": [
        "# Display top 10 records after codification of 'types'\n",
        "data.head(10)"
      ],
      "execution_count": 74,
      "outputs": [
        {
          "output_type": "execute_result",
          "data": {
            "text/html": [
              "<div>\n",
              "<style scoped>\n",
              "    .dataframe tbody tr th:only-of-type {\n",
              "        vertical-align: middle;\n",
              "    }\n",
              "\n",
              "    .dataframe tbody tr th {\n",
              "        vertical-align: top;\n",
              "    }\n",
              "\n",
              "    .dataframe thead th {\n",
              "        text-align: right;\n",
              "    }\n",
              "</style>\n",
              "<table border=\"1\" class=\"dataframe\">\n",
              "  <thead>\n",
              "    <tr style=\"text-align: right;\">\n",
              "      <th></th>\n",
              "      <th>state</th>\n",
              "      <th>location</th>\n",
              "      <th>agency</th>\n",
              "      <th>type</th>\n",
              "      <th>so2</th>\n",
              "      <th>no2</th>\n",
              "      <th>rspm</th>\n",
              "      <th>spm</th>\n",
              "      <th>pm2_5</th>\n",
              "      <th>date</th>\n",
              "    </tr>\n",
              "  </thead>\n",
              "  <tbody>\n",
              "    <tr>\n",
              "      <th>0</th>\n",
              "      <td>Andhra Pradesh</td>\n",
              "      <td>Hyderabad</td>\n",
              "      <td>NaN</td>\n",
              "      <td>RRO</td>\n",
              "      <td>4.8</td>\n",
              "      <td>17.4</td>\n",
              "      <td>NaN</td>\n",
              "      <td>NaN</td>\n",
              "      <td>NaN</td>\n",
              "      <td>2/1/1990</td>\n",
              "    </tr>\n",
              "    <tr>\n",
              "      <th>1</th>\n",
              "      <td>Andhra Pradesh</td>\n",
              "      <td>Hyderabad</td>\n",
              "      <td>NaN</td>\n",
              "      <td>I</td>\n",
              "      <td>3.1</td>\n",
              "      <td>7.0</td>\n",
              "      <td>NaN</td>\n",
              "      <td>NaN</td>\n",
              "      <td>NaN</td>\n",
              "      <td>2/1/1990</td>\n",
              "    </tr>\n",
              "    <tr>\n",
              "      <th>2</th>\n",
              "      <td>Andhra Pradesh</td>\n",
              "      <td>Hyderabad</td>\n",
              "      <td>NaN</td>\n",
              "      <td>RRO</td>\n",
              "      <td>6.2</td>\n",
              "      <td>28.5</td>\n",
              "      <td>NaN</td>\n",
              "      <td>NaN</td>\n",
              "      <td>NaN</td>\n",
              "      <td>2/1/1990</td>\n",
              "    </tr>\n",
              "    <tr>\n",
              "      <th>3</th>\n",
              "      <td>Andhra Pradesh</td>\n",
              "      <td>Hyderabad</td>\n",
              "      <td>NaN</td>\n",
              "      <td>RRO</td>\n",
              "      <td>6.3</td>\n",
              "      <td>14.7</td>\n",
              "      <td>NaN</td>\n",
              "      <td>NaN</td>\n",
              "      <td>NaN</td>\n",
              "      <td>3/1/1990</td>\n",
              "    </tr>\n",
              "    <tr>\n",
              "      <th>4</th>\n",
              "      <td>Andhra Pradesh</td>\n",
              "      <td>Hyderabad</td>\n",
              "      <td>NaN</td>\n",
              "      <td>I</td>\n",
              "      <td>4.7</td>\n",
              "      <td>7.5</td>\n",
              "      <td>NaN</td>\n",
              "      <td>NaN</td>\n",
              "      <td>NaN</td>\n",
              "      <td>3/1/1990</td>\n",
              "    </tr>\n",
              "    <tr>\n",
              "      <th>5</th>\n",
              "      <td>Andhra Pradesh</td>\n",
              "      <td>Hyderabad</td>\n",
              "      <td>NaN</td>\n",
              "      <td>RRO</td>\n",
              "      <td>6.4</td>\n",
              "      <td>25.7</td>\n",
              "      <td>NaN</td>\n",
              "      <td>NaN</td>\n",
              "      <td>NaN</td>\n",
              "      <td>3/1/1990</td>\n",
              "    </tr>\n",
              "    <tr>\n",
              "      <th>6</th>\n",
              "      <td>Andhra Pradesh</td>\n",
              "      <td>Hyderabad</td>\n",
              "      <td>NaN</td>\n",
              "      <td>RRO</td>\n",
              "      <td>5.4</td>\n",
              "      <td>17.1</td>\n",
              "      <td>NaN</td>\n",
              "      <td>NaN</td>\n",
              "      <td>NaN</td>\n",
              "      <td>4/1/1990</td>\n",
              "    </tr>\n",
              "    <tr>\n",
              "      <th>7</th>\n",
              "      <td>Andhra Pradesh</td>\n",
              "      <td>Hyderabad</td>\n",
              "      <td>NaN</td>\n",
              "      <td>I</td>\n",
              "      <td>4.7</td>\n",
              "      <td>8.7</td>\n",
              "      <td>NaN</td>\n",
              "      <td>NaN</td>\n",
              "      <td>NaN</td>\n",
              "      <td>4/1/1990</td>\n",
              "    </tr>\n",
              "    <tr>\n",
              "      <th>8</th>\n",
              "      <td>Andhra Pradesh</td>\n",
              "      <td>Hyderabad</td>\n",
              "      <td>NaN</td>\n",
              "      <td>RRO</td>\n",
              "      <td>4.2</td>\n",
              "      <td>23.0</td>\n",
              "      <td>NaN</td>\n",
              "      <td>NaN</td>\n",
              "      <td>NaN</td>\n",
              "      <td>4/1/1990</td>\n",
              "    </tr>\n",
              "    <tr>\n",
              "      <th>9</th>\n",
              "      <td>Andhra Pradesh</td>\n",
              "      <td>Hyderabad</td>\n",
              "      <td>NaN</td>\n",
              "      <td>I</td>\n",
              "      <td>4.0</td>\n",
              "      <td>8.9</td>\n",
              "      <td>NaN</td>\n",
              "      <td>NaN</td>\n",
              "      <td>NaN</td>\n",
              "      <td>5/1/1990</td>\n",
              "    </tr>\n",
              "  </tbody>\n",
              "</table>\n",
              "</div>"
            ],
            "text/plain": [
              "            state   location agency type  so2   no2  rspm  spm  pm2_5      date\n",
              "0  Andhra Pradesh  Hyderabad    NaN  RRO  4.8  17.4   NaN  NaN    NaN  2/1/1990\n",
              "1  Andhra Pradesh  Hyderabad    NaN    I  3.1   7.0   NaN  NaN    NaN  2/1/1990\n",
              "2  Andhra Pradesh  Hyderabad    NaN  RRO  6.2  28.5   NaN  NaN    NaN  2/1/1990\n",
              "3  Andhra Pradesh  Hyderabad    NaN  RRO  6.3  14.7   NaN  NaN    NaN  3/1/1990\n",
              "4  Andhra Pradesh  Hyderabad    NaN    I  4.7   7.5   NaN  NaN    NaN  3/1/1990\n",
              "5  Andhra Pradesh  Hyderabad    NaN  RRO  6.4  25.7   NaN  NaN    NaN  3/1/1990\n",
              "6  Andhra Pradesh  Hyderabad    NaN  RRO  5.4  17.1   NaN  NaN    NaN  4/1/1990\n",
              "7  Andhra Pradesh  Hyderabad    NaN    I  4.7   8.7   NaN  NaN    NaN  4/1/1990\n",
              "8  Andhra Pradesh  Hyderabad    NaN  RRO  4.2  23.0   NaN  NaN    NaN  4/1/1990\n",
              "9  Andhra Pradesh  Hyderabad    NaN    I  4.0   8.9   NaN  NaN    NaN  5/1/1990"
            ]
          },
          "metadata": {
            "tags": []
          },
          "execution_count": 74
        }
      ]
    },
    {
      "cell_type": "markdown",
      "metadata": {
        "id": "y9eVy-O-VJlb"
      },
      "source": [
        "### Creating a year column\n",
        "To view the trend over a period of time, we need year values for each row and also when you see in most of the values in date column only has ‘year’ value. So, let’s create a new column holding year values. Convert the column to 'datetime' type and extract the year to populate the new column. Display Top 5 records after the conversion."
      ]
    },
    {
      "cell_type": "code",
      "metadata": {
        "id": "MlAgHZytVJlb",
        "colab": {
          "base_uri": "https://localhost:8080/",
          "height": 493
        },
        "outputId": "50a60f84-2424-4c85-c456-90c26e84acc6"
      },
      "source": [
        "#convert date column to datetime\r\n",
        "data['date']=pd.to_datetime(data['date'])\r\n",
        "#check conversion\r\n",
        "data.info()\r\n",
        "#extract year into new column\r\n",
        "import datetime\r\n",
        "data['year']=pd.DatetimeIndex(data['date']).year\r\n",
        "data.head()"
      ],
      "execution_count": 75,
      "outputs": [
        {
          "output_type": "stream",
          "text": [
            "<class 'pandas.core.frame.DataFrame'>\n",
            "Int64Index: 435742 entries, 0 to 435741\n",
            "Data columns (total 10 columns):\n",
            " #   Column    Non-Null Count   Dtype         \n",
            "---  ------    --------------   -----         \n",
            " 0   state     435742 non-null  object        \n",
            " 1   location  435739 non-null  object        \n",
            " 2   agency    286261 non-null  object        \n",
            " 3   type      435742 non-null  object        \n",
            " 4   so2       401096 non-null  float64       \n",
            " 5   no2       419509 non-null  float64       \n",
            " 6   rspm      395520 non-null  float64       \n",
            " 7   spm       198355 non-null  float64       \n",
            " 8   pm2_5     9314 non-null    float64       \n",
            " 9   date      435735 non-null  datetime64[ns]\n",
            "dtypes: datetime64[ns](1), float64(5), object(4)\n",
            "memory usage: 36.6+ MB\n"
          ],
          "name": "stdout"
        },
        {
          "output_type": "execute_result",
          "data": {
            "text/html": [
              "<div>\n",
              "<style scoped>\n",
              "    .dataframe tbody tr th:only-of-type {\n",
              "        vertical-align: middle;\n",
              "    }\n",
              "\n",
              "    .dataframe tbody tr th {\n",
              "        vertical-align: top;\n",
              "    }\n",
              "\n",
              "    .dataframe thead th {\n",
              "        text-align: right;\n",
              "    }\n",
              "</style>\n",
              "<table border=\"1\" class=\"dataframe\">\n",
              "  <thead>\n",
              "    <tr style=\"text-align: right;\">\n",
              "      <th></th>\n",
              "      <th>state</th>\n",
              "      <th>location</th>\n",
              "      <th>agency</th>\n",
              "      <th>type</th>\n",
              "      <th>so2</th>\n",
              "      <th>no2</th>\n",
              "      <th>rspm</th>\n",
              "      <th>spm</th>\n",
              "      <th>pm2_5</th>\n",
              "      <th>date</th>\n",
              "      <th>year</th>\n",
              "    </tr>\n",
              "  </thead>\n",
              "  <tbody>\n",
              "    <tr>\n",
              "      <th>0</th>\n",
              "      <td>Andhra Pradesh</td>\n",
              "      <td>Hyderabad</td>\n",
              "      <td>NaN</td>\n",
              "      <td>RRO</td>\n",
              "      <td>4.8</td>\n",
              "      <td>17.4</td>\n",
              "      <td>NaN</td>\n",
              "      <td>NaN</td>\n",
              "      <td>NaN</td>\n",
              "      <td>1990-02-01</td>\n",
              "      <td>1990.0</td>\n",
              "    </tr>\n",
              "    <tr>\n",
              "      <th>1</th>\n",
              "      <td>Andhra Pradesh</td>\n",
              "      <td>Hyderabad</td>\n",
              "      <td>NaN</td>\n",
              "      <td>I</td>\n",
              "      <td>3.1</td>\n",
              "      <td>7.0</td>\n",
              "      <td>NaN</td>\n",
              "      <td>NaN</td>\n",
              "      <td>NaN</td>\n",
              "      <td>1990-02-01</td>\n",
              "      <td>1990.0</td>\n",
              "    </tr>\n",
              "    <tr>\n",
              "      <th>2</th>\n",
              "      <td>Andhra Pradesh</td>\n",
              "      <td>Hyderabad</td>\n",
              "      <td>NaN</td>\n",
              "      <td>RRO</td>\n",
              "      <td>6.2</td>\n",
              "      <td>28.5</td>\n",
              "      <td>NaN</td>\n",
              "      <td>NaN</td>\n",
              "      <td>NaN</td>\n",
              "      <td>1990-02-01</td>\n",
              "      <td>1990.0</td>\n",
              "    </tr>\n",
              "    <tr>\n",
              "      <th>3</th>\n",
              "      <td>Andhra Pradesh</td>\n",
              "      <td>Hyderabad</td>\n",
              "      <td>NaN</td>\n",
              "      <td>RRO</td>\n",
              "      <td>6.3</td>\n",
              "      <td>14.7</td>\n",
              "      <td>NaN</td>\n",
              "      <td>NaN</td>\n",
              "      <td>NaN</td>\n",
              "      <td>1990-03-01</td>\n",
              "      <td>1990.0</td>\n",
              "    </tr>\n",
              "    <tr>\n",
              "      <th>4</th>\n",
              "      <td>Andhra Pradesh</td>\n",
              "      <td>Hyderabad</td>\n",
              "      <td>NaN</td>\n",
              "      <td>I</td>\n",
              "      <td>4.7</td>\n",
              "      <td>7.5</td>\n",
              "      <td>NaN</td>\n",
              "      <td>NaN</td>\n",
              "      <td>NaN</td>\n",
              "      <td>1990-03-01</td>\n",
              "      <td>1990.0</td>\n",
              "    </tr>\n",
              "  </tbody>\n",
              "</table>\n",
              "</div>"
            ],
            "text/plain": [
              "            state   location agency type  ...  spm  pm2_5       date    year\n",
              "0  Andhra Pradesh  Hyderabad    NaN  RRO  ...  NaN    NaN 1990-02-01  1990.0\n",
              "1  Andhra Pradesh  Hyderabad    NaN    I  ...  NaN    NaN 1990-02-01  1990.0\n",
              "2  Andhra Pradesh  Hyderabad    NaN  RRO  ...  NaN    NaN 1990-02-01  1990.0\n",
              "3  Andhra Pradesh  Hyderabad    NaN  RRO  ...  NaN    NaN 1990-03-01  1990.0\n",
              "4  Andhra Pradesh  Hyderabad    NaN    I  ...  NaN    NaN 1990-03-01  1990.0\n",
              "\n",
              "[5 rows x 11 columns]"
            ]
          },
          "metadata": {
            "tags": []
          },
          "execution_count": 75
        }
      ]
    },
    {
      "cell_type": "markdown",
      "metadata": {
        "id": "kgWApth6VJlb"
      },
      "source": [
        "### Handling Missing Values\n",
        "\n",
        "The column such as SO2, NO2, rspm, spm, pm2_5 are the ones which contribute much to our analysis. So, we need to remove null from those columns to avoid inaccuracy in the prediction.\n",
        "We use the Imputer from sklearn.preprocessing to fill the missing values in every column with the mean."
      ]
    },
    {
      "cell_type": "code",
      "metadata": {
        "collapsed": true,
        "id": "e1-ZFeB0VJlc",
        "colab": {
          "base_uri": "https://localhost:8080/"
        },
        "outputId": "d786e5f8-5886-48b1-c26b-54021d0b311b"
      },
      "source": [
        "# define columns of importance, which shall be used reguarly (COLS = ....) variable\n",
        "COLS =['so2', 'no2', 'rspm', 'spm', 'pm2_5']\n",
        "# invoke SimpleImputer to fill missing values using 'mean' as the replacement strategy\n",
        "from sklearn.impute import SimpleImputer\n",
        "imputer_mean=SimpleImputer(missing_values=np.nan, strategy='mean')\n",
        "#data.so2= imputer_mean.fit_transform(data['so2'].values.reshape(-1,1))[:,0]\n",
        "data[COLS]=imputer_mean.fit_transform(data[COLS])\n",
        "data.info()\n",
        "# Display data.info after the transformation\n",
        "# Display that there are no more missing values in the dataset\n",
        "\n"
      ],
      "execution_count": 76,
      "outputs": [
        {
          "output_type": "stream",
          "text": [
            "<class 'pandas.core.frame.DataFrame'>\n",
            "Int64Index: 435742 entries, 0 to 435741\n",
            "Data columns (total 11 columns):\n",
            " #   Column    Non-Null Count   Dtype         \n",
            "---  ------    --------------   -----         \n",
            " 0   state     435742 non-null  object        \n",
            " 1   location  435739 non-null  object        \n",
            " 2   agency    286261 non-null  object        \n",
            " 3   type      435742 non-null  object        \n",
            " 4   so2       435742 non-null  float64       \n",
            " 5   no2       435742 non-null  float64       \n",
            " 6   rspm      435742 non-null  float64       \n",
            " 7   spm       435742 non-null  float64       \n",
            " 8   pm2_5     435742 non-null  float64       \n",
            " 9   date      435735 non-null  datetime64[ns]\n",
            " 10  year      435735 non-null  float64       \n",
            "dtypes: datetime64[ns](1), float64(6), object(4)\n",
            "memory usage: 39.9+ MB\n"
          ],
          "name": "stdout"
        }
      ]
    },
    {
      "cell_type": "markdown",
      "metadata": {
        "id": "LKzP0UlDVJlc"
      },
      "source": [
        "## Statewise Grouping of so2, no2, rspm, spm values\n",
        "\n",
        "Calculate median values of so2, no2, rspm, spm for each state and display in (a) as table (b) bar chart, with values sorted in ascending order. Separate section for each of the component. Use matplotlib()."
      ]
    },
    {
      "cell_type": "markdown",
      "metadata": {
        "id": "3ertKbzIVJlc"
      },
      "source": [
        "### so2 status"
      ]
    },
    {
      "cell_type": "code",
      "metadata": {
        "id": "sbEzPzG8VJlc",
        "colab": {
          "base_uri": "https://localhost:8080/",
          "height": 204
        },
        "outputId": "9b41cf52-2e6b-447d-8031-00f095a47639"
      },
      "source": [
        "#a) so2 table\r\n",
        "so2_median=data[['state', 'so2']].groupby('state', as_index=False).median('so2').sort_values(by='so2')\r\n",
        "so2_median.head()"
      ],
      "execution_count": 77,
      "outputs": [
        {
          "output_type": "execute_result",
          "data": {
            "text/html": [
              "<div>\n",
              "<style scoped>\n",
              "    .dataframe tbody tr th:only-of-type {\n",
              "        vertical-align: middle;\n",
              "    }\n",
              "\n",
              "    .dataframe tbody tr th {\n",
              "        vertical-align: top;\n",
              "    }\n",
              "\n",
              "    .dataframe thead th {\n",
              "        text-align: right;\n",
              "    }\n",
              "</style>\n",
              "<table border=\"1\" class=\"dataframe\">\n",
              "  <thead>\n",
              "    <tr style=\"text-align: right;\">\n",
              "      <th></th>\n",
              "      <th>state</th>\n",
              "      <th>so2</th>\n",
              "    </tr>\n",
              "  </thead>\n",
              "  <tbody>\n",
              "    <tr>\n",
              "      <th>23</th>\n",
              "      <td>Nagaland</td>\n",
              "      <td>2.0</td>\n",
              "    </tr>\n",
              "    <tr>\n",
              "      <th>21</th>\n",
              "      <td>Meghalaya</td>\n",
              "      <td>2.0</td>\n",
              "    </tr>\n",
              "    <tr>\n",
              "      <th>22</th>\n",
              "      <td>Mizoram</td>\n",
              "      <td>2.0</td>\n",
              "    </tr>\n",
              "    <tr>\n",
              "      <th>1</th>\n",
              "      <td>Arunachal Pradesh</td>\n",
              "      <td>2.5</td>\n",
              "    </tr>\n",
              "    <tr>\n",
              "      <th>12</th>\n",
              "      <td>Himachal Pradesh</td>\n",
              "      <td>3.0</td>\n",
              "    </tr>\n",
              "  </tbody>\n",
              "</table>\n",
              "</div>"
            ],
            "text/plain": [
              "                state  so2\n",
              "23           Nagaland  2.0\n",
              "21          Meghalaya  2.0\n",
              "22            Mizoram  2.0\n",
              "1   Arunachal Pradesh  2.5\n",
              "12   Himachal Pradesh  3.0"
            ]
          },
          "metadata": {
            "tags": []
          },
          "execution_count": 77
        }
      ]
    },
    {
      "cell_type": "code",
      "metadata": {
        "colab": {
          "base_uri": "https://localhost:8080/",
          "height": 434
        },
        "id": "VTvCy2CyWvDr",
        "outputId": "cd75ac25-db1a-4b25-9bd2-3265df7049af"
      },
      "source": [
        "#b) so2 visual\r\n",
        "import matplotlib.pyplot as plt\r\n",
        "so2_median.plot.bar(x='state', y='so2' )\r\n",
        "plt.title('so2 Median Status by State')\r\n",
        "plt.show()\r\n"
      ],
      "execution_count": 78,
      "outputs": [
        {
          "output_type": "display_data",
          "data": {
            "image/png": "[encoded data removed]",
            "text/plain": [
              "<Figure size 432x288 with 1 Axes>"
            ]
          },
          "metadata": {
            "tags": [],
            "needs_background": "light"
          }
        }
      ]
    },
    {
      "cell_type": "markdown",
      "metadata": {
        "id": "5oiwbQyEVJle"
      },
      "source": [
        "### no2 status"
      ]
    },
    {
      "cell_type": "code",
      "metadata": {
        "id": "A-03KOJsVJlf",
        "colab": {
          "base_uri": "https://localhost:8080/",
          "height": 204
        },
        "outputId": "1344351e-4997-4636-fb8b-d45d90e74d13"
      },
      "source": [
        "#a) no2 table\r\n",
        "no2_median=data[['state', 'no2']].groupby('state', as_index=False).median('no2').sort_values(by='no2')\r\n",
        "no2_median.head()"
      ],
      "execution_count": 79,
      "outputs": [
        {
          "output_type": "execute_result",
          "data": {
            "text/html": [
              "<div>\n",
              "<style scoped>\n",
              "    .dataframe tbody tr th:only-of-type {\n",
              "        vertical-align: middle;\n",
              "    }\n",
              "\n",
              "    .dataframe tbody tr th {\n",
              "        vertical-align: top;\n",
              "    }\n",
              "\n",
              "    .dataframe thead th {\n",
              "        text-align: right;\n",
              "    }\n",
              "</style>\n",
              "<table border=\"1\" class=\"dataframe\">\n",
              "  <thead>\n",
              "    <tr style=\"text-align: right;\">\n",
              "      <th></th>\n",
              "      <th>state</th>\n",
              "      <th>no2</th>\n",
              "    </tr>\n",
              "  </thead>\n",
              "  <tbody>\n",
              "    <tr>\n",
              "      <th>1</th>\n",
              "      <td>Arunachal Pradesh</td>\n",
              "      <td>5.0</td>\n",
              "    </tr>\n",
              "    <tr>\n",
              "      <th>22</th>\n",
              "      <td>Mizoram</td>\n",
              "      <td>5.0</td>\n",
              "    </tr>\n",
              "    <tr>\n",
              "      <th>23</th>\n",
              "      <td>Nagaland</td>\n",
              "      <td>7.0</td>\n",
              "    </tr>\n",
              "    <tr>\n",
              "      <th>21</th>\n",
              "      <td>Meghalaya</td>\n",
              "      <td>10.0</td>\n",
              "    </tr>\n",
              "    <tr>\n",
              "      <th>9</th>\n",
              "      <td>Goa</td>\n",
              "      <td>11.6</td>\n",
              "    </tr>\n",
              "  </tbody>\n",
              "</table>\n",
              "</div>"
            ],
            "text/plain": [
              "                state   no2\n",
              "1   Arunachal Pradesh   5.0\n",
              "22            Mizoram   5.0\n",
              "23           Nagaland   7.0\n",
              "21          Meghalaya  10.0\n",
              "9                 Goa  11.6"
            ]
          },
          "metadata": {
            "tags": []
          },
          "execution_count": 79
        }
      ]
    },
    {
      "cell_type": "code",
      "metadata": {
        "colab": {
          "base_uri": "https://localhost:8080/",
          "height": 434
        },
        "id": "DVc4xsBCaqQf",
        "outputId": "dd57e1d9-79ac-4d99-d8bc-c58cf3af4863"
      },
      "source": [
        "#b) no2 visual\r\n",
        "import matplotlib.pyplot as plt\r\n",
        "no2_median.plot.bar(x='state', y='no2' )\r\n",
        "plt.title('no2 Median Status by State')\r\n",
        "plt.show()"
      ],
      "execution_count": 80,
      "outputs": [
        {
          "output_type": "display_data",
          "data": {
            "image/png": "[encoded data removed]",
            "text/plain": [
              "<Figure size 432x288 with 1 Axes>"
            ]
          },
          "metadata": {
            "tags": [],
            "needs_background": "light"
          }
        }
      ]
    },
    {
      "cell_type": "markdown",
      "metadata": {
        "id": "d1pQUth5VJlf"
      },
      "source": [
        "### rspm status"
      ]
    },
    {
      "cell_type": "code",
      "metadata": {
        "colab": {
          "base_uri": "https://localhost:8080/",
          "height": 204
        },
        "id": "JhhkJ6qcbDAp",
        "outputId": "ced2fe69-a0dd-4378-e90c-d99a0045b62a"
      },
      "source": [
        "#a) rspm table\r\n",
        "rspm_median=data[['state', 'rspm']].groupby('state', as_index=False).median('rspm').sort_values(by='rspm')\r\n",
        "rspm_median.head()"
      ],
      "execution_count": 81,
      "outputs": [
        {
          "output_type": "execute_result",
          "data": {
            "text/html": [
              "<div>\n",
              "<style scoped>\n",
              "    .dataframe tbody tr th:only-of-type {\n",
              "        vertical-align: middle;\n",
              "    }\n",
              "\n",
              "    .dataframe tbody tr th {\n",
              "        vertical-align: top;\n",
              "    }\n",
              "\n",
              "    .dataframe thead th {\n",
              "        text-align: right;\n",
              "    }\n",
              "</style>\n",
              "<table border=\"1\" class=\"dataframe\">\n",
              "  <thead>\n",
              "    <tr style=\"text-align: right;\">\n",
              "      <th></th>\n",
              "      <th>state</th>\n",
              "      <th>rspm</th>\n",
              "    </tr>\n",
              "  </thead>\n",
              "  <tbody>\n",
              "    <tr>\n",
              "      <th>28</th>\n",
              "      <td>Sikkim</td>\n",
              "      <td>32.0</td>\n",
              "    </tr>\n",
              "    <tr>\n",
              "      <th>22</th>\n",
              "      <td>Mizoram</td>\n",
              "      <td>40.0</td>\n",
              "    </tr>\n",
              "    <tr>\n",
              "      <th>25</th>\n",
              "      <td>Puducherry</td>\n",
              "      <td>46.0</td>\n",
              "    </tr>\n",
              "    <tr>\n",
              "      <th>16</th>\n",
              "      <td>Kerala</td>\n",
              "      <td>49.0</td>\n",
              "    </tr>\n",
              "    <tr>\n",
              "      <th>9</th>\n",
              "      <td>Goa</td>\n",
              "      <td>56.0</td>\n",
              "    </tr>\n",
              "  </tbody>\n",
              "</table>\n",
              "</div>"
            ],
            "text/plain": [
              "         state  rspm\n",
              "28      Sikkim  32.0\n",
              "22     Mizoram  40.0\n",
              "25  Puducherry  46.0\n",
              "16      Kerala  49.0\n",
              "9          Goa  56.0"
            ]
          },
          "metadata": {
            "tags": []
          },
          "execution_count": 81
        }
      ]
    },
    {
      "cell_type": "code",
      "metadata": {
        "colab": {
          "base_uri": "https://localhost:8080/",
          "height": 434
        },
        "id": "jhlQ0s83azEZ",
        "outputId": "6f2aadbb-f973-4656-ef5e-78a191b94d6a"
      },
      "source": [
        "#b) rspm visual\r\n",
        "import matplotlib.pyplot as plt\r\n",
        "rspm_median.plot.bar(x='state', y='rspm' )\r\n",
        "plt.title('rspm Median Status by State')\r\n",
        "plt.show()"
      ],
      "execution_count": 82,
      "outputs": [
        {
          "output_type": "display_data",
          "data": {
            "image/png": "[encoded data removed]",
            "text/plain": [
              "<Figure size 432x288 with 1 Axes>"
            ]
          },
          "metadata": {
            "tags": [],
            "needs_background": "light"
          }
        }
      ]
    },
    {
      "cell_type": "markdown",
      "metadata": {
        "id": "Fu9D8pcYVJlf"
      },
      "source": [
        "### spm status"
      ]
    },
    {
      "cell_type": "code",
      "metadata": {
        "colab": {
          "base_uri": "https://localhost:8080/",
          "height": 204
        },
        "id": "CWpoTYWfbULY",
        "outputId": "904a9391-e109-43e1-f3ca-dea1842ef9bc"
      },
      "source": [
        "#a) spm table\r\n",
        "spm_median=data[['state', 'spm']].groupby('state', as_index=False).median('spm').sort_values(by='spm')\r\n",
        "spm_median.head()"
      ],
      "execution_count": 83,
      "outputs": [
        {
          "output_type": "execute_result",
          "data": {
            "text/html": [
              "<div>\n",
              "<style scoped>\n",
              "    .dataframe tbody tr th:only-of-type {\n",
              "        vertical-align: middle;\n",
              "    }\n",
              "\n",
              "    .dataframe tbody tr th {\n",
              "        vertical-align: top;\n",
              "    }\n",
              "\n",
              "    .dataframe thead th {\n",
              "        text-align: right;\n",
              "    }\n",
              "</style>\n",
              "<table border=\"1\" class=\"dataframe\">\n",
              "  <thead>\n",
              "    <tr style=\"text-align: right;\">\n",
              "      <th></th>\n",
              "      <th>state</th>\n",
              "      <th>spm</th>\n",
              "    </tr>\n",
              "  </thead>\n",
              "  <tbody>\n",
              "    <tr>\n",
              "      <th>28</th>\n",
              "      <td>Sikkim</td>\n",
              "      <td>75.0</td>\n",
              "    </tr>\n",
              "    <tr>\n",
              "      <th>20</th>\n",
              "      <td>Manipur</td>\n",
              "      <td>120.5</td>\n",
              "    </tr>\n",
              "    <tr>\n",
              "      <th>25</th>\n",
              "      <td>Puducherry</td>\n",
              "      <td>191.0</td>\n",
              "    </tr>\n",
              "    <tr>\n",
              "      <th>9</th>\n",
              "      <td>Goa</td>\n",
              "      <td>199.0</td>\n",
              "    </tr>\n",
              "    <tr>\n",
              "      <th>7</th>\n",
              "      <td>Daman &amp; Diu</td>\n",
              "      <td>200.5</td>\n",
              "    </tr>\n",
              "  </tbody>\n",
              "</table>\n",
              "</div>"
            ],
            "text/plain": [
              "          state    spm\n",
              "28       Sikkim   75.0\n",
              "20      Manipur  120.5\n",
              "25   Puducherry  191.0\n",
              "9           Goa  199.0\n",
              "7   Daman & Diu  200.5"
            ]
          },
          "metadata": {
            "tags": []
          },
          "execution_count": 83
        }
      ]
    },
    {
      "cell_type": "code",
      "metadata": {
        "colab": {
          "base_uri": "https://localhost:8080/",
          "height": 434
        },
        "id": "p4nG_yPAa7JY",
        "outputId": "29359381-31a0-4ada-a4ec-ad42883e7f63"
      },
      "source": [
        "#b) spm visual\r\n",
        "import matplotlib.pyplot as plt\r\n",
        "spm_median.plot.bar(x='state', y='spm' )\r\n",
        "plt.title('spm Median Status by State')\r\n",
        "plt.show()"
      ],
      "execution_count": 84,
      "outputs": [
        {
          "output_type": "display_data",
          "data": {
            "image/png": "[encoded data removed]",
            "text/plain": [
              "<Figure size 432x288 with 1 Axes>"
            ]
          },
          "metadata": {
            "tags": [],
            "needs_background": "light"
          }
        }
      ]
    },
    {
      "cell_type": "markdown",
      "metadata": {
        "id": "bB2t3S9GVJlg"
      },
      "source": [
        "### What is the yearly trend in a particular state, say ‘Andhra Pradesh’?\n",
        "\n",
        "Create a new dataframe containing the NO2, SO2, rspm, and spm data regarding state ‘Andhra Pradesh’ only and group it by ‘year’. Display top 5 records after."
      ]
    },
    {
      "cell_type": "code",
      "metadata": {
        "id": "ssImyU3bVJlg",
        "colab": {
          "base_uri": "https://localhost:8080/",
          "height": 419
        },
        "outputId": "4cf490b7-d31e-44f6-f2bc-bd2518f0acc3"
      },
      "source": [
        "#slice data into new dataframe ap_df\r\n",
        "ap_df=data.loc[data.state=='Andhra Pradesh']\r\n",
        "ap1=ap_df[['state', 'so2', 'no2', 'rspm', 'spm','year']].groupby('year', as_index=False)\r\n",
        "ap1.head()"
      ],
      "execution_count": 85,
      "outputs": [
        {
          "output_type": "execute_result",
          "data": {
            "text/html": [
              "<div>\n",
              "<style scoped>\n",
              "    .dataframe tbody tr th:only-of-type {\n",
              "        vertical-align: middle;\n",
              "    }\n",
              "\n",
              "    .dataframe tbody tr th {\n",
              "        vertical-align: top;\n",
              "    }\n",
              "\n",
              "    .dataframe thead th {\n",
              "        text-align: right;\n",
              "    }\n",
              "</style>\n",
              "<table border=\"1\" class=\"dataframe\">\n",
              "  <thead>\n",
              "    <tr style=\"text-align: right;\">\n",
              "      <th></th>\n",
              "      <th>state</th>\n",
              "      <th>so2</th>\n",
              "      <th>no2</th>\n",
              "      <th>rspm</th>\n",
              "      <th>spm</th>\n",
              "      <th>year</th>\n",
              "    </tr>\n",
              "  </thead>\n",
              "  <tbody>\n",
              "    <tr>\n",
              "      <th>0</th>\n",
              "      <td>Andhra Pradesh</td>\n",
              "      <td>4.8</td>\n",
              "      <td>17.4</td>\n",
              "      <td>108.832784</td>\n",
              "      <td>220.78348</td>\n",
              "      <td>1990.0</td>\n",
              "    </tr>\n",
              "    <tr>\n",
              "      <th>1</th>\n",
              "      <td>Andhra Pradesh</td>\n",
              "      <td>3.1</td>\n",
              "      <td>7.0</td>\n",
              "      <td>108.832784</td>\n",
              "      <td>220.78348</td>\n",
              "      <td>1990.0</td>\n",
              "    </tr>\n",
              "    <tr>\n",
              "      <th>2</th>\n",
              "      <td>Andhra Pradesh</td>\n",
              "      <td>6.2</td>\n",
              "      <td>28.5</td>\n",
              "      <td>108.832784</td>\n",
              "      <td>220.78348</td>\n",
              "      <td>1990.0</td>\n",
              "    </tr>\n",
              "    <tr>\n",
              "      <th>3</th>\n",
              "      <td>Andhra Pradesh</td>\n",
              "      <td>6.3</td>\n",
              "      <td>14.7</td>\n",
              "      <td>108.832784</td>\n",
              "      <td>220.78348</td>\n",
              "      <td>1990.0</td>\n",
              "    </tr>\n",
              "    <tr>\n",
              "      <th>4</th>\n",
              "      <td>Andhra Pradesh</td>\n",
              "      <td>4.7</td>\n",
              "      <td>7.5</td>\n",
              "      <td>108.832784</td>\n",
              "      <td>220.78348</td>\n",
              "      <td>1990.0</td>\n",
              "    </tr>\n",
              "    <tr>\n",
              "      <th>...</th>\n",
              "      <td>...</td>\n",
              "      <td>...</td>\n",
              "      <td>...</td>\n",
              "      <td>...</td>\n",
              "      <td>...</td>\n",
              "      <td>...</td>\n",
              "    </tr>\n",
              "    <tr>\n",
              "      <th>23753</th>\n",
              "      <td>Andhra Pradesh</td>\n",
              "      <td>9.0</td>\n",
              "      <td>18.0</td>\n",
              "      <td>46.000000</td>\n",
              "      <td>220.78348</td>\n",
              "      <td>2015.0</td>\n",
              "    </tr>\n",
              "    <tr>\n",
              "      <th>23754</th>\n",
              "      <td>Andhra Pradesh</td>\n",
              "      <td>8.0</td>\n",
              "      <td>18.0</td>\n",
              "      <td>27.000000</td>\n",
              "      <td>220.78348</td>\n",
              "      <td>2015.0</td>\n",
              "    </tr>\n",
              "    <tr>\n",
              "      <th>23755</th>\n",
              "      <td>Andhra Pradesh</td>\n",
              "      <td>9.0</td>\n",
              "      <td>15.0</td>\n",
              "      <td>29.000000</td>\n",
              "      <td>220.78348</td>\n",
              "      <td>2015.0</td>\n",
              "    </tr>\n",
              "    <tr>\n",
              "      <th>23756</th>\n",
              "      <td>Andhra Pradesh</td>\n",
              "      <td>7.0</td>\n",
              "      <td>17.0</td>\n",
              "      <td>78.000000</td>\n",
              "      <td>220.78348</td>\n",
              "      <td>2015.0</td>\n",
              "    </tr>\n",
              "    <tr>\n",
              "      <th>23757</th>\n",
              "      <td>Andhra Pradesh</td>\n",
              "      <td>9.0</td>\n",
              "      <td>23.0</td>\n",
              "      <td>35.000000</td>\n",
              "      <td>220.78348</td>\n",
              "      <td>2015.0</td>\n",
              "    </tr>\n",
              "  </tbody>\n",
              "</table>\n",
              "<p>125 rows × 6 columns</p>\n",
              "</div>"
            ],
            "text/plain": [
              "                state  so2   no2        rspm        spm    year\n",
              "0      Andhra Pradesh  4.8  17.4  108.832784  220.78348  1990.0\n",
              "1      Andhra Pradesh  3.1   7.0  108.832784  220.78348  1990.0\n",
              "2      Andhra Pradesh  6.2  28.5  108.832784  220.78348  1990.0\n",
              "3      Andhra Pradesh  6.3  14.7  108.832784  220.78348  1990.0\n",
              "4      Andhra Pradesh  4.7   7.5  108.832784  220.78348  1990.0\n",
              "...               ...  ...   ...         ...        ...     ...\n",
              "23753  Andhra Pradesh  9.0  18.0   46.000000  220.78348  2015.0\n",
              "23754  Andhra Pradesh  8.0  18.0   27.000000  220.78348  2015.0\n",
              "23755  Andhra Pradesh  9.0  15.0   29.000000  220.78348  2015.0\n",
              "23756  Andhra Pradesh  7.0  17.0   78.000000  220.78348  2015.0\n",
              "23757  Andhra Pradesh  9.0  23.0   35.000000  220.78348  2015.0\n",
              "\n",
              "[125 rows x 6 columns]"
            ]
          },
          "metadata": {
            "tags": []
          },
          "execution_count": 85
        }
      ]
    },
    {
      "cell_type": "code",
      "metadata": {
        "id": "zMYwOLKAVJlg",
        "colab": {
          "base_uri": "https://localhost:8080/",
          "height": 350
        },
        "outputId": "6919077a-ba77-4f52-ed69-967a89febc35"
      },
      "source": [
        "# Display yearly trend graph (year vs. value) in pairs: (a) so2 and no2 (b) rspm and spm. \n",
        "#A)so2 and no2\n",
        "plt.plot(ap1.groupby('year').so2.agg('median'), color='green', marker='o')\n",
        "plt.plot(ap1.groupby('year').no2.agg('median'), color='blue', marker='o')\n",
        "plt.title('so2 vs. no2 Median Status Over Time')\n",
        "plt.legend\n",
        "plt.show()"
      ],
      "execution_count": 86,
      "outputs": [
        {
          "output_type": "error",
          "ename": "AttributeError",
          "evalue": "ignored",
          "traceback": [
            "\u001b[0;31m---------------------------------------------------------------------------\u001b[0m",
            "\u001b[0;31mAttributeError\u001b[0m                            Traceback (most recent call last)",
            "\u001b[0;32m<ipython-input-86-502c8229ccee>\u001b[0m in \u001b[0;36m<module>\u001b[0;34m()\u001b[0m\n\u001b[1;32m      1\u001b[0m \u001b[0;31m# Display yearly trend graph (year vs. value) in pairs: (a) so2 and no2 (b) rspm and spm.\u001b[0m\u001b[0;34m\u001b[0m\u001b[0;34m\u001b[0m\u001b[0;34m\u001b[0m\u001b[0m\n\u001b[1;32m      2\u001b[0m \u001b[0;31m#A)so2 and no2\u001b[0m\u001b[0;34m\u001b[0m\u001b[0;34m\u001b[0m\u001b[0;34m\u001b[0m\u001b[0m\n\u001b[0;32m----> 3\u001b[0;31m \u001b[0mplt\u001b[0m\u001b[0;34m.\u001b[0m\u001b[0mplot\u001b[0m\u001b[0;34m(\u001b[0m\u001b[0map1\u001b[0m\u001b[0;34m.\u001b[0m\u001b[0mgroupby\u001b[0m\u001b[0;34m(\u001b[0m\u001b[0;34m'year'\u001b[0m\u001b[0;34m)\u001b[0m\u001b[0;34m.\u001b[0m\u001b[0mso2\u001b[0m\u001b[0;34m.\u001b[0m\u001b[0magg\u001b[0m\u001b[0;34m(\u001b[0m\u001b[0;34m'median'\u001b[0m\u001b[0;34m)\u001b[0m\u001b[0;34m,\u001b[0m \u001b[0mcolor\u001b[0m\u001b[0;34m=\u001b[0m\u001b[0;34m'green'\u001b[0m\u001b[0;34m,\u001b[0m \u001b[0mmarker\u001b[0m\u001b[0;34m=\u001b[0m\u001b[0;34m'o'\u001b[0m\u001b[0;34m)\u001b[0m\u001b[0;34m\u001b[0m\u001b[0;34m\u001b[0m\u001b[0m\n\u001b[0m\u001b[1;32m      4\u001b[0m \u001b[0mplt\u001b[0m\u001b[0;34m.\u001b[0m\u001b[0mplot\u001b[0m\u001b[0;34m(\u001b[0m\u001b[0map1\u001b[0m\u001b[0;34m.\u001b[0m\u001b[0mgroupby\u001b[0m\u001b[0;34m(\u001b[0m\u001b[0;34m'year'\u001b[0m\u001b[0;34m)\u001b[0m\u001b[0;34m.\u001b[0m\u001b[0mno2\u001b[0m\u001b[0;34m.\u001b[0m\u001b[0magg\u001b[0m\u001b[0;34m(\u001b[0m\u001b[0;34m'median'\u001b[0m\u001b[0;34m)\u001b[0m\u001b[0;34m,\u001b[0m \u001b[0mcolor\u001b[0m\u001b[0;34m=\u001b[0m\u001b[0;34m'blue'\u001b[0m\u001b[0;34m,\u001b[0m \u001b[0mmarker\u001b[0m\u001b[0;34m=\u001b[0m\u001b[0;34m'o'\u001b[0m\u001b[0;34m)\u001b[0m\u001b[0;34m\u001b[0m\u001b[0;34m\u001b[0m\u001b[0m\n\u001b[1;32m      5\u001b[0m \u001b[0mplt\u001b[0m\u001b[0;34m.\u001b[0m\u001b[0mtitle\u001b[0m\u001b[0;34m(\u001b[0m\u001b[0;34m'so2 vs. no2 Median Status Over Time'\u001b[0m\u001b[0;34m)\u001b[0m\u001b[0;34m\u001b[0m\u001b[0;34m\u001b[0m\u001b[0m\n",
            "\u001b[0;32m/usr/local/lib/python3.6/dist-packages/pandas/core/groupby/groupby.py\u001b[0m in \u001b[0;36m__getattr__\u001b[0;34m(self, attr)\u001b[0m\n\u001b[1;32m    702\u001b[0m \u001b[0;34m\u001b[0m\u001b[0m\n\u001b[1;32m    703\u001b[0m         raise AttributeError(\n\u001b[0;32m--> 704\u001b[0;31m             \u001b[0;34mf\"'{type(self).__name__}' object has no attribute '{attr}'\"\u001b[0m\u001b[0;34m\u001b[0m\u001b[0;34m\u001b[0m\u001b[0m\n\u001b[0m\u001b[1;32m    705\u001b[0m         )\n\u001b[1;32m    706\u001b[0m \u001b[0;34m\u001b[0m\u001b[0m\n",
            "\u001b[0;31mAttributeError\u001b[0m: 'DataFrameGroupBy' object has no attribute 'groupby'"
          ]
        }
      ]
    },
    {
      "cell_type": "code",
      "metadata": {
        "colab": {
          "base_uri": "https://localhost:8080/",
          "height": 1000
        },
        "id": "GW9q9w_ejVSj",
        "outputId": "90cd0b46-e9b7-4d10-f621-307236c25664"
      },
      "source": [
        "# Display yearly trend graph (year vs. value) in pairs: (a) so2 and no2 (b) rspm and spm. \n",
        "#A)so2 and no2\n",
        "plt.plot(ap1['rspm'], color='green', marker='o')\n",
        "plt.plot(ap1['spm'], color='blue', marker='o')\n",
        "plt.title('rspm vs. spm Median Status Over Time')\n",
        "plt.legend\n",
        "plt.show()"
      ],
      "execution_count": 87,
      "outputs": [
        {
          "output_type": "stream",
          "text": [
            "/usr/local/lib/python3.6/dist-packages/numpy/core/_asarray.py:136: VisibleDeprecationWarning: Creating an ndarray from ragged nested sequences (which is a list-or-tuple of lists-or-tuples-or ndarrays with different lengths or shapes) is deprecated. If you meant to do this, you must specify 'dtype=object' when creating the ndarray\n",
            "  return array(a, dtype, copy=False, order=order, subok=True)\n"
          ],
          "name": "stderr"
        },
        {
          "output_type": "error",
          "ename": "ConversionError",
          "evalue": "ignored",
          "traceback": [
            "\u001b[0;31m---------------------------------------------------------------------------\u001b[0m",
            "\u001b[0;31mValueError\u001b[0m                                Traceback (most recent call last)",
            "\u001b[0;32m/usr/local/lib/python3.6/dist-packages/matplotlib/axis.py\u001b[0m in \u001b[0;36mconvert_units\u001b[0;34m(self, x)\u001b[0m\n\u001b[1;32m   1572\u001b[0m         \u001b[0;32mtry\u001b[0m\u001b[0;34m:\u001b[0m\u001b[0;34m\u001b[0m\u001b[0;34m\u001b[0m\u001b[0m\n\u001b[0;32m-> 1573\u001b[0;31m             \u001b[0mret\u001b[0m \u001b[0;34m=\u001b[0m \u001b[0mself\u001b[0m\u001b[0;34m.\u001b[0m\u001b[0mconverter\u001b[0m\u001b[0;34m.\u001b[0m\u001b[0mconvert\u001b[0m\u001b[0;34m(\u001b[0m\u001b[0mx\u001b[0m\u001b[0;34m,\u001b[0m \u001b[0mself\u001b[0m\u001b[0;34m.\u001b[0m\u001b[0munits\u001b[0m\u001b[0;34m,\u001b[0m \u001b[0mself\u001b[0m\u001b[0;34m)\u001b[0m\u001b[0;34m\u001b[0m\u001b[0;34m\u001b[0m\u001b[0m\n\u001b[0m\u001b[1;32m   1574\u001b[0m         \u001b[0;32mexcept\u001b[0m \u001b[0mException\u001b[0m \u001b[0;32mas\u001b[0m \u001b[0me\u001b[0m\u001b[0;34m:\u001b[0m\u001b[0;34m\u001b[0m\u001b[0;34m\u001b[0m\u001b[0m\n",
            "\u001b[0;32m/usr/local/lib/python3.6/dist-packages/matplotlib/category.py\u001b[0m in \u001b[0;36mconvert\u001b[0;34m(value, unit, axis)\u001b[0m\n\u001b[1;32m     49\u001b[0m             raise ValueError(\n\u001b[0;32m---> 50\u001b[0;31m                 \u001b[0;34m'Missing category information for StrCategoryConverter; '\u001b[0m\u001b[0;34m\u001b[0m\u001b[0;34m\u001b[0m\u001b[0m\n\u001b[0m\u001b[1;32m     51\u001b[0m                 \u001b[0;34m'this might be caused by unintendedly mixing categorical and '\u001b[0m\u001b[0;34m\u001b[0m\u001b[0;34m\u001b[0m\u001b[0m\n",
            "\u001b[0;31mValueError\u001b[0m: Missing category information for StrCategoryConverter; this might be caused by unintendedly mixing categorical and numeric data",
            "\nThe above exception was the direct cause of the following exception:\n",
            "\u001b[0;31mConversionError\u001b[0m                           Traceback (most recent call last)",
            "\u001b[0;32m<ipython-input-87-51554b9ce224>\u001b[0m in \u001b[0;36m<module>\u001b[0;34m()\u001b[0m\n\u001b[1;32m      1\u001b[0m \u001b[0;31m# Display yearly trend graph (year vs. value) in pairs: (a) so2 and no2 (b) rspm and spm.\u001b[0m\u001b[0;34m\u001b[0m\u001b[0;34m\u001b[0m\u001b[0;34m\u001b[0m\u001b[0m\n\u001b[1;32m      2\u001b[0m \u001b[0;31m#A)so2 and no2\u001b[0m\u001b[0;34m\u001b[0m\u001b[0;34m\u001b[0m\u001b[0;34m\u001b[0m\u001b[0m\n\u001b[0;32m----> 3\u001b[0;31m \u001b[0mplt\u001b[0m\u001b[0;34m.\u001b[0m\u001b[0mplot\u001b[0m\u001b[0;34m(\u001b[0m\u001b[0map1\u001b[0m\u001b[0;34m[\u001b[0m\u001b[0;34m'rspm'\u001b[0m\u001b[0;34m]\u001b[0m\u001b[0;34m,\u001b[0m \u001b[0mcolor\u001b[0m\u001b[0;34m=\u001b[0m\u001b[0;34m'green'\u001b[0m\u001b[0;34m,\u001b[0m \u001b[0mmarker\u001b[0m\u001b[0;34m=\u001b[0m\u001b[0;34m'o'\u001b[0m\u001b[0;34m)\u001b[0m\u001b[0;34m\u001b[0m\u001b[0;34m\u001b[0m\u001b[0m\n\u001b[0m\u001b[1;32m      4\u001b[0m \u001b[0mplt\u001b[0m\u001b[0;34m.\u001b[0m\u001b[0mplot\u001b[0m\u001b[0;34m(\u001b[0m\u001b[0map1\u001b[0m\u001b[0;34m[\u001b[0m\u001b[0;34m'spm'\u001b[0m\u001b[0;34m]\u001b[0m\u001b[0;34m,\u001b[0m \u001b[0mcolor\u001b[0m\u001b[0;34m=\u001b[0m\u001b[0;34m'blue'\u001b[0m\u001b[0;34m,\u001b[0m \u001b[0mmarker\u001b[0m\u001b[0;34m=\u001b[0m\u001b[0;34m'o'\u001b[0m\u001b[0;34m)\u001b[0m\u001b[0;34m\u001b[0m\u001b[0;34m\u001b[0m\u001b[0m\n\u001b[1;32m      5\u001b[0m \u001b[0mplt\u001b[0m\u001b[0;34m.\u001b[0m\u001b[0mtitle\u001b[0m\u001b[0;34m(\u001b[0m\u001b[0;34m'rspm vs. spm Median Status Over Time'\u001b[0m\u001b[0;34m)\u001b[0m\u001b[0;34m\u001b[0m\u001b[0;34m\u001b[0m\u001b[0m\n",
            "\u001b[0;32m/usr/local/lib/python3.6/dist-packages/matplotlib/pyplot.py\u001b[0m in \u001b[0;36mplot\u001b[0;34m(scalex, scaley, data, *args, **kwargs)\u001b[0m\n\u001b[1;32m   2761\u001b[0m     return gca().plot(\n\u001b[1;32m   2762\u001b[0m         *args, scalex=scalex, scaley=scaley, **({\"data\": data} if data\n\u001b[0;32m-> 2763\u001b[0;31m         is not None else {}), **kwargs)\n\u001b[0m\u001b[1;32m   2764\u001b[0m \u001b[0;34m\u001b[0m\u001b[0m\n\u001b[1;32m   2765\u001b[0m \u001b[0;34m\u001b[0m\u001b[0m\n",
            "\u001b[0;32m/usr/local/lib/python3.6/dist-packages/matplotlib/axes/_axes.py\u001b[0m in \u001b[0;36mplot\u001b[0;34m(self, scalex, scaley, data, *args, **kwargs)\u001b[0m\n\u001b[1;32m   1647\u001b[0m         \u001b[0mlines\u001b[0m \u001b[0;34m=\u001b[0m \u001b[0;34m[\u001b[0m\u001b[0;34m*\u001b[0m\u001b[0mself\u001b[0m\u001b[0;34m.\u001b[0m\u001b[0m_get_lines\u001b[0m\u001b[0;34m(\u001b[0m\u001b[0;34m*\u001b[0m\u001b[0margs\u001b[0m\u001b[0;34m,\u001b[0m \u001b[0mdata\u001b[0m\u001b[0;34m=\u001b[0m\u001b[0mdata\u001b[0m\u001b[0;34m,\u001b[0m \u001b[0;34m**\u001b[0m\u001b[0mkwargs\u001b[0m\u001b[0;34m)\u001b[0m\u001b[0;34m]\u001b[0m\u001b[0;34m\u001b[0m\u001b[0;34m\u001b[0m\u001b[0m\n\u001b[1;32m   1648\u001b[0m         \u001b[0;32mfor\u001b[0m \u001b[0mline\u001b[0m \u001b[0;32min\u001b[0m \u001b[0mlines\u001b[0m\u001b[0;34m:\u001b[0m\u001b[0;34m\u001b[0m\u001b[0;34m\u001b[0m\u001b[0m\n\u001b[0;32m-> 1649\u001b[0;31m             \u001b[0mself\u001b[0m\u001b[0;34m.\u001b[0m\u001b[0madd_line\u001b[0m\u001b[0;34m(\u001b[0m\u001b[0mline\u001b[0m\u001b[0;34m)\u001b[0m\u001b[0;34m\u001b[0m\u001b[0;34m\u001b[0m\u001b[0m\n\u001b[0m\u001b[1;32m   1650\u001b[0m         \u001b[0mself\u001b[0m\u001b[0;34m.\u001b[0m\u001b[0m_request_autoscale_view\u001b[0m\u001b[0;34m(\u001b[0m\u001b[0mscalex\u001b[0m\u001b[0;34m=\u001b[0m\u001b[0mscalex\u001b[0m\u001b[0;34m,\u001b[0m \u001b[0mscaley\u001b[0m\u001b[0;34m=\u001b[0m\u001b[0mscaley\u001b[0m\u001b[0;34m)\u001b[0m\u001b[0;34m\u001b[0m\u001b[0;34m\u001b[0m\u001b[0m\n\u001b[1;32m   1651\u001b[0m         \u001b[0;32mreturn\u001b[0m \u001b[0mlines\u001b[0m\u001b[0;34m\u001b[0m\u001b[0;34m\u001b[0m\u001b[0m\n",
            "\u001b[0;32m/usr/local/lib/python3.6/dist-packages/matplotlib/axes/_base.py\u001b[0m in \u001b[0;36madd_line\u001b[0;34m(self, line)\u001b[0m\n\u001b[1;32m   1848\u001b[0m             \u001b[0mline\u001b[0m\u001b[0;34m.\u001b[0m\u001b[0mset_clip_path\u001b[0m\u001b[0;34m(\u001b[0m\u001b[0mself\u001b[0m\u001b[0;34m.\u001b[0m\u001b[0mpatch\u001b[0m\u001b[0;34m)\u001b[0m\u001b[0;34m\u001b[0m\u001b[0;34m\u001b[0m\u001b[0m\n\u001b[1;32m   1849\u001b[0m \u001b[0;34m\u001b[0m\u001b[0m\n\u001b[0;32m-> 1850\u001b[0;31m         \u001b[0mself\u001b[0m\u001b[0;34m.\u001b[0m\u001b[0m_update_line_limits\u001b[0m\u001b[0;34m(\u001b[0m\u001b[0mline\u001b[0m\u001b[0;34m)\u001b[0m\u001b[0;34m\u001b[0m\u001b[0;34m\u001b[0m\u001b[0m\n\u001b[0m\u001b[1;32m   1851\u001b[0m         \u001b[0;32mif\u001b[0m \u001b[0;32mnot\u001b[0m \u001b[0mline\u001b[0m\u001b[0;34m.\u001b[0m\u001b[0mget_label\u001b[0m\u001b[0;34m(\u001b[0m\u001b[0;34m)\u001b[0m\u001b[0;34m:\u001b[0m\u001b[0;34m\u001b[0m\u001b[0;34m\u001b[0m\u001b[0m\n\u001b[1;32m   1852\u001b[0m             \u001b[0mline\u001b[0m\u001b[0;34m.\u001b[0m\u001b[0mset_label\u001b[0m\u001b[0;34m(\u001b[0m\u001b[0;34m'_line%d'\u001b[0m \u001b[0;34m%\u001b[0m \u001b[0mlen\u001b[0m\u001b[0;34m(\u001b[0m\u001b[0mself\u001b[0m\u001b[0;34m.\u001b[0m\u001b[0mlines\u001b[0m\u001b[0;34m)\u001b[0m\u001b[0;34m)\u001b[0m\u001b[0;34m\u001b[0m\u001b[0;34m\u001b[0m\u001b[0m\n",
            "\u001b[0;32m/usr/local/lib/python3.6/dist-packages/matplotlib/axes/_base.py\u001b[0m in \u001b[0;36m_update_line_limits\u001b[0;34m(self, line)\u001b[0m\n\u001b[1;32m   1870\u001b[0m         \u001b[0mFigures\u001b[0m \u001b[0mout\u001b[0m \u001b[0mthe\u001b[0m \u001b[0mdata\u001b[0m \u001b[0mlimit\u001b[0m \u001b[0mof\u001b[0m \u001b[0mthe\u001b[0m \u001b[0mgiven\u001b[0m \u001b[0mline\u001b[0m\u001b[0;34m,\u001b[0m \u001b[0mupdating\u001b[0m \u001b[0mself\u001b[0m\u001b[0;34m.\u001b[0m\u001b[0mdataLim\u001b[0m\u001b[0;34m.\u001b[0m\u001b[0;34m\u001b[0m\u001b[0;34m\u001b[0m\u001b[0m\n\u001b[1;32m   1871\u001b[0m         \"\"\"\n\u001b[0;32m-> 1872\u001b[0;31m         \u001b[0mpath\u001b[0m \u001b[0;34m=\u001b[0m \u001b[0mline\u001b[0m\u001b[0;34m.\u001b[0m\u001b[0mget_path\u001b[0m\u001b[0;34m(\u001b[0m\u001b[0;34m)\u001b[0m\u001b[0;34m\u001b[0m\u001b[0;34m\u001b[0m\u001b[0m\n\u001b[0m\u001b[1;32m   1873\u001b[0m         \u001b[0;32mif\u001b[0m \u001b[0mpath\u001b[0m\u001b[0;34m.\u001b[0m\u001b[0mvertices\u001b[0m\u001b[0;34m.\u001b[0m\u001b[0msize\u001b[0m \u001b[0;34m==\u001b[0m \u001b[0;36m0\u001b[0m\u001b[0;34m:\u001b[0m\u001b[0;34m\u001b[0m\u001b[0;34m\u001b[0m\u001b[0m\n\u001b[1;32m   1874\u001b[0m             \u001b[0;32mreturn\u001b[0m\u001b[0;34m\u001b[0m\u001b[0;34m\u001b[0m\u001b[0m\n",
            "\u001b[0;32m/usr/local/lib/python3.6/dist-packages/matplotlib/lines.py\u001b[0m in \u001b[0;36mget_path\u001b[0;34m(self)\u001b[0m\n\u001b[1;32m   1025\u001b[0m         \"\"\"\n\u001b[1;32m   1026\u001b[0m         \u001b[0;32mif\u001b[0m \u001b[0mself\u001b[0m\u001b[0;34m.\u001b[0m\u001b[0m_invalidy\u001b[0m \u001b[0;32mor\u001b[0m \u001b[0mself\u001b[0m\u001b[0;34m.\u001b[0m\u001b[0m_invalidx\u001b[0m\u001b[0;34m:\u001b[0m\u001b[0;34m\u001b[0m\u001b[0;34m\u001b[0m\u001b[0m\n\u001b[0;32m-> 1027\u001b[0;31m             \u001b[0mself\u001b[0m\u001b[0;34m.\u001b[0m\u001b[0mrecache\u001b[0m\u001b[0;34m(\u001b[0m\u001b[0;34m)\u001b[0m\u001b[0;34m\u001b[0m\u001b[0;34m\u001b[0m\u001b[0m\n\u001b[0m\u001b[1;32m   1028\u001b[0m         \u001b[0;32mreturn\u001b[0m \u001b[0mself\u001b[0m\u001b[0;34m.\u001b[0m\u001b[0m_path\u001b[0m\u001b[0;34m\u001b[0m\u001b[0;34m\u001b[0m\u001b[0m\n\u001b[1;32m   1029\u001b[0m \u001b[0;34m\u001b[0m\u001b[0m\n",
            "\u001b[0;32m/usr/local/lib/python3.6/dist-packages/matplotlib/lines.py\u001b[0m in \u001b[0;36mrecache\u001b[0;34m(self, always)\u001b[0m\n\u001b[1;32m    672\u001b[0m             \u001b[0mx\u001b[0m \u001b[0;34m=\u001b[0m \u001b[0mself\u001b[0m\u001b[0;34m.\u001b[0m\u001b[0m_x\u001b[0m\u001b[0;34m\u001b[0m\u001b[0;34m\u001b[0m\u001b[0m\n\u001b[1;32m    673\u001b[0m         \u001b[0;32mif\u001b[0m \u001b[0malways\u001b[0m \u001b[0;32mor\u001b[0m \u001b[0mself\u001b[0m\u001b[0;34m.\u001b[0m\u001b[0m_invalidy\u001b[0m\u001b[0;34m:\u001b[0m\u001b[0;34m\u001b[0m\u001b[0;34m\u001b[0m\u001b[0m\n\u001b[0;32m--> 674\u001b[0;31m             \u001b[0myconv\u001b[0m \u001b[0;34m=\u001b[0m \u001b[0mself\u001b[0m\u001b[0;34m.\u001b[0m\u001b[0mconvert_yunits\u001b[0m\u001b[0;34m(\u001b[0m\u001b[0mself\u001b[0m\u001b[0;34m.\u001b[0m\u001b[0m_yorig\u001b[0m\u001b[0;34m)\u001b[0m\u001b[0;34m\u001b[0m\u001b[0;34m\u001b[0m\u001b[0m\n\u001b[0m\u001b[1;32m    675\u001b[0m             \u001b[0my\u001b[0m \u001b[0;34m=\u001b[0m \u001b[0m_to_unmasked_float_array\u001b[0m\u001b[0;34m(\u001b[0m\u001b[0myconv\u001b[0m\u001b[0;34m)\u001b[0m\u001b[0;34m.\u001b[0m\u001b[0mravel\u001b[0m\u001b[0;34m(\u001b[0m\u001b[0;34m)\u001b[0m\u001b[0;34m\u001b[0m\u001b[0;34m\u001b[0m\u001b[0m\n\u001b[1;32m    676\u001b[0m         \u001b[0;32melse\u001b[0m\u001b[0;34m:\u001b[0m\u001b[0;34m\u001b[0m\u001b[0;34m\u001b[0m\u001b[0m\n",
            "\u001b[0;32m/usr/local/lib/python3.6/dist-packages/matplotlib/artist.py\u001b[0m in \u001b[0;36mconvert_yunits\u001b[0;34m(self, y)\u001b[0m\n\u001b[1;32m    188\u001b[0m         \u001b[0;32mif\u001b[0m \u001b[0max\u001b[0m \u001b[0;32mis\u001b[0m \u001b[0;32mNone\u001b[0m \u001b[0;32mor\u001b[0m \u001b[0max\u001b[0m\u001b[0;34m.\u001b[0m\u001b[0myaxis\u001b[0m \u001b[0;32mis\u001b[0m \u001b[0;32mNone\u001b[0m\u001b[0;34m:\u001b[0m\u001b[0;34m\u001b[0m\u001b[0;34m\u001b[0m\u001b[0m\n\u001b[1;32m    189\u001b[0m             \u001b[0;32mreturn\u001b[0m \u001b[0my\u001b[0m\u001b[0;34m\u001b[0m\u001b[0;34m\u001b[0m\u001b[0m\n\u001b[0;32m--> 190\u001b[0;31m         \u001b[0;32mreturn\u001b[0m \u001b[0max\u001b[0m\u001b[0;34m.\u001b[0m\u001b[0myaxis\u001b[0m\u001b[0;34m.\u001b[0m\u001b[0mconvert_units\u001b[0m\u001b[0;34m(\u001b[0m\u001b[0my\u001b[0m\u001b[0;34m)\u001b[0m\u001b[0;34m\u001b[0m\u001b[0;34m\u001b[0m\u001b[0m\n\u001b[0m\u001b[1;32m    191\u001b[0m \u001b[0;34m\u001b[0m\u001b[0m\n\u001b[1;32m    192\u001b[0m     \u001b[0;34m@\u001b[0m\u001b[0mproperty\u001b[0m\u001b[0;34m\u001b[0m\u001b[0;34m\u001b[0m\u001b[0m\n",
            "\u001b[0;32m/usr/local/lib/python3.6/dist-packages/matplotlib/axis.py\u001b[0m in \u001b[0;36mconvert_units\u001b[0;34m(self, x)\u001b[0m\n\u001b[1;32m   1574\u001b[0m         \u001b[0;32mexcept\u001b[0m \u001b[0mException\u001b[0m \u001b[0;32mas\u001b[0m \u001b[0me\u001b[0m\u001b[0;34m:\u001b[0m\u001b[0;34m\u001b[0m\u001b[0;34m\u001b[0m\u001b[0m\n\u001b[1;32m   1575\u001b[0m             raise munits.ConversionError('Failed to convert value(s) to axis '\n\u001b[0;32m-> 1576\u001b[0;31m                                          f'units: {x!r}') from e\n\u001b[0m\u001b[1;32m   1577\u001b[0m         \u001b[0;32mreturn\u001b[0m \u001b[0mret\u001b[0m\u001b[0;34m\u001b[0m\u001b[0;34m\u001b[0m\u001b[0m\n\u001b[1;32m   1578\u001b[0m \u001b[0;34m\u001b[0m\u001b[0m\n",
            "\u001b[0;31mConversionError\u001b[0m: Failed to convert value(s) to axis units: array([             state   so2   no2        rspm        spm    year\n0   Andhra Pradesh   4.8  17.4  108.832784  220.78348  1990.0\n1   Andhra Pradesh   3.1   7.0  108.832784  220.78348  1990.0\n2   Andhra Pradesh   6.2  28.5  108.832784  220.78348  1990.0\n3   Andhra Pradesh   6.3  14.7  108.832784  220.78348  1990.0\n4   Andhra Pradesh   4.7   7.5  108.832784  220.78348  1990.0\n5   Andhra Pradesh   6.4  25.7  108.832784  220.78348  1990.0\n6   Andhra Pradesh   5.4  17.1  108.832784  220.78348  1990.0\n7   Andhra Pradesh   4.7   8.7  108.832784  220.78348  1990.0\n8   Andhra Pradesh   4.2  23.0  108.832784  220.78348  1990.0\n9   Andhra Pradesh   4.0   8.9  108.832784  220.78348  1990.0\n10  Andhra Pradesh   3.6  18.6  108.832784  220.78348  1990.0\n11  Andhra Pradesh   3.9  14.1  108.832784  133.00000  1990.0\n12  Andhra Pradesh   5.6  11.8  108.832784   82.00000  1990.0\n13  Andhra Pradesh   3.3  19.3  108.832784  111.00000  1990.0\n14  Andhra Pradesh   3.9   8.2  108.832784  118.00000  1990.0\n15  Andhra Pradesh   3.5  12.1  108.832784  135.00000  1990.0\n16  Andhra Pradesh   7.9  10.2  108.832784   80.00000  1990.0\n17  Andhra Pradesh   4.0   9.9  108.832784  179.00000  1990.0\n18  Andhra Pradesh  12.4  11.5  108.832784   58.00000  1990.0\n19  Andhra Pradesh   4.0  12.3  108.832784   99.00000  1990.0\n20  Andhra Pradesh   6.3  11.5  108.832784  270.00000  1990.0\n21  Andhra Pradesh  44.8  13.7  108.832784   97.00000  1990.0\n22  Andhra Pradesh   8.1  17.8  108.832784  167.00000  1990.0\n23  Andhra Pradesh   7.7  11.3  108.832784  145.00000  1990.0\n24  Andhra Pradesh  20.6  13.6  108.832784   75.00000  1990.0\n25  Andhra Pradesh  20.4  27.5  108.832784  212.00000  1990.0\n26  Andhra Pradesh  13.9   7.2  108.832784   93.00000  1990.0\n27  Andhra Pradesh  11.2  18.6  108.832784   61.00000  1990.0\n28  Andhra Pradesh  22.3  35.9  108.832784  255.00000  1990.0,\n                    state   so2   no2        rspm        spm    year\n29  Andhra Pradesh  24.5  28.0  108.832784  197.00000  1991.0\n30  Andhra Pradesh   7.2  10.4  108.832784  148.00000  1991.0\n31  Andhra Pradesh  28.7  16.2  108.832784   77.00000  1991.0\n32  Andhra Pradesh  18.7  42.2  108.832784  125.00000  1991.0\n33  Andhra Pradesh  24.5  18.0  108.832784  330.00000  1991.0\n34  Andhra Pradesh  20.4  12.6  108.832784   93.00000  1991.0\n35  Andhra Pradesh   5.2  41.3  108.832784  287.00000  1991.0\n36  Andhra Pradesh   7.5  12.2  108.832784  241.00000  1991.0\n37  Andhra Pradesh   4.8   8.4  108.832784   85.00000  1991.0\n38  Andhra Pradesh   8.5  48.5  108.832784  220.78348  1991.0\n39  Andhra Pradesh   9.7  12.4  108.832784  283.00000  1991.0\n40  Andhra Pradesh  21.2  11.5  108.832784  108.00000  1991.0\n41  Andhra Pradesh   4.9  15.3  108.832784  234.00000  1991.0\n42  Andhra Pradesh  17.7  14.0  108.832784  121.00000  1991.0\n43  Andhra Pradesh  12.3  38.6  108.832784  219.00000  1991.0\n44  Andhra Pradesh   3.5  11.9  108.832784  179.00000  1991.0\n45  Andhra Pradesh   3.1   7.5  108.832784   84.00000  1991.0\n46  Andhra Pradesh   3.0  19.0  108.832784  154.00000  1991.0\n47  Andhra Pradesh   6.2  10.0  108.832784  150.00000  1991.0\n48  Andhra Pradesh   7.9   9.2  108.832784   67.00000  1991.0\n49  Andhra Pradesh   6.5  17.3  108.832784  128.00000  1991.0\n50  Andhra Pradesh   8.5  12.5  108.832784  119.00000  1991.0\n51  Andhra Pradesh   7.8   9.8  108.832784   71.00000  1991.0\n52  Andhra Pradesh   6.5  12.6  108.832784   98.00000  1991.0\n53  Andhra Pradesh   6.6  12.7  108.832784  172.00000  1991.0\n54  Andhra Pradesh  13.3  11.9  108.832784   56.00000  1991.0\n55  Andhra Pradesh   6.0  23.4  108.832784  120.00000  1991.0\n56  Andhra Pradesh   8.5  15.5  108.832784  135.00000  1991.0\n57  Andhra Pradesh  12.3  12.2  108.832784   83.00000  1991.0\n58  Andhra Pradesh   6.2  25.7  108.832784  158.00000  1991.0\n59  Andhra Pradesh   8.0   8.3  108.832784  163.00000  1991.0\n60  Andhra Pradesh  14.6  12.9  108.832784  103.00000  1991.0\n61  Andhra Pradesh  18.8  39.0  108.832784  232.00000  1991.0\n62  Andhra Pradesh   8.9  11.4  108.832784  149.00000  1991.0\n63  Andhra Pradesh  11.2  18.4  108.832784  129.00000  1991.0\n64  Andhra Pradesh   6.0  47.0  108.832784  242.00000  1991.0,\n                     state   so2   no2        rspm    spm    year\n65   Andhra Pradesh  20.0  64.6  108.832784  353.0  1992.0\n66   Andhra Pradesh  14.6   4.4  108.832784  190.0  1992.0\n67   Andhra Pradesh  35.8  12.5  108.832784  261.0  1992.0\n68   Andhra Pradesh  52.6  89.6  108.832784  679.0  1992.0\n69   Andhra Pradesh  55.8  33.8  108.832784  245.0  1992.0\n..              ...   ...   ...         ...    ...     ...\n147  Andhra Pradesh   8.7  22.9  108.832784  140.0  1992.0\n148  Andhra Pradesh  10.9  20.5  108.832784  158.0  1992.0\n149  Andhra Pradesh   7.9  41.3  108.832784  320.0  1992.0\n150  Andhra Pradesh   7.3  26.4  108.832784  137.0  1992.0\n151  Andhra Pradesh  15.2  45.4  108.832784  347.0  1992.0\n\n[87 rows x 6 columns],\n                     state   so2   no2        rspm        spm    year\n152  Andhra Pradesh   6.5  10.2  108.832784  220.78348  1993.0\n153  Andhra Pradesh   9.9  11.6  108.832784  220.78348  1993.0\n154  Andhra Pradesh   8.0  44.8  108.832784  220.78348  1993.0\n155  Andhra Pradesh   8.1  13.4  108.832784  220.78348  1993.0\n156  Andhra Pradesh   7.7   7.9  108.832784  220.78348  1993.0\n157  Andhra Pradesh   7.9  33.9  108.832784  220.78348  1993.0\n158  Andhra Pradesh   6.4  11.8  108.832784  220.78348  1993.0\n159  Andhra Pradesh   7.4   7.5  108.832784  220.78348  1993.0\n160  Andhra Pradesh   6.9  32.6  108.832784  220.78348  1993.0\n161  Andhra Pradesh   6.1  13.4  108.832784  220.78348  1993.0\n162  Andhra Pradesh   6.0   6.8  108.832784  220.78348  1993.0\n163  Andhra Pradesh   6.0  31.6  108.832784  220.78348  1993.0\n164  Andhra Pradesh   6.0   7.9  108.832784  220.78348  1993.0\n165  Andhra Pradesh   6.0   8.8  108.832784  220.78348  1993.0\n166  Andhra Pradesh   6.0  30.9  108.832784  220.78348  1993.0\n167  Andhra Pradesh   6.0   9.6  108.832784  220.78348  1993.0\n168  Andhra Pradesh   6.0   6.3  108.832784  220.78348  1993.0\n169  Andhra Pradesh   6.0  17.7  108.832784  220.78348  1993.0\n170  Andhra Pradesh   6.0  11.7  108.832784  220.78348  1993.0\n171  Andhra Pradesh   6.0   5.8  108.832784  220.78348  1993.0\n172  Andhra Pradesh   6.0  11.1  108.832784  220.78348  1993.0\n173  Andhra Pradesh   6.0  13.6  108.832784  220.78348  1993.0\n174  Andhra Pradesh   6.0   8.2  108.832784  220.78348  1993.0\n175  Andhra Pradesh   6.0  11.2  108.832784  220.78348  1993.0\n176  Andhra Pradesh   6.0   9.3  108.832784  220.78348  1993.0\n177  Andhra Pradesh   6.0  12.8  108.832784  220.78348  1993.0\n178  Andhra Pradesh   6.0  11.1  108.832784  220.78348  1993.0\n179  Andhra Pradesh   6.0   7.8  108.832784  220.78348  1993.0\n180  Andhra Pradesh   6.0   7.2  108.832784  220.78348  1993.0\n181  Andhra Pradesh   6.0  18.6  108.832784  220.78348  1993.0\n182  Andhra Pradesh   6.3   8.0  108.832784  220.78348  1993.0\n183  Andhra Pradesh  11.9  10.0  108.832784  220.78348  1993.0\n184  Andhra Pradesh  24.5  41.1  108.832784  220.78348  1993.0\n185  Andhra Pradesh  17.8  15.2  108.832784  220.78348  1993.0\n186  Andhra Pradesh  18.1  16.3  108.832784  220.78348  1993.0\n187  Andhra Pradesh  34.1  48.9  108.832784  220.78348  1993.0,\n                     state   so2   no2        rspm        spm    year\n188  Andhra Pradesh   4.4   8.9  108.832784  220.78348  1994.0\n189  Andhra Pradesh   9.6  20.3  108.832784  220.78348  1994.0\n190  Andhra Pradesh   4.2  14.1  108.832784  220.78348  1994.0\n191  Andhra Pradesh   9.7   9.0  108.832784   98.00000  1994.0\n192  Andhra Pradesh  51.6  63.0  108.832784  130.00000  1994.0\n..              ...   ...   ...         ...        ...     ...\n246  Andhra Pradesh  25.5   7.2  108.832784  220.78348  1994.0\n247  Andhra Pradesh   2.0  14.2  108.832784  220.78348  1994.0\n248  Andhra Pradesh  13.6  16.6  108.832784  200.00000  1994.0\n249  Andhra Pradesh  36.8  44.7  108.832784  262.00000  1994.0\n250  Andhra Pradesh  13.9  14.4  108.832784   97.00000  1994.0\n\n[63 rows x 6 columns],\n                     state   so2    no2        rspm    spm    year\n251  Andhra Pradesh  10.8   91.4  108.832784  236.0  1995.0\n252  Andhra Pradesh  20.0   59.4  108.832784  328.0  1995.0\n253  Andhra Pradesh  19.1   85.1  108.832784  251.0  1995.0\n254  Andhra Pradesh  44.3  192.4  108.832784  209.0  1995.0\n255  Andhra Pradesh  20.2   57.4  108.832784  226.0  1995.0\n..              ...   ...    ...         ...    ...     ...\n337  Andhra Pradesh  28.3   27.9  108.832784  115.0  1995.0\n338  Andhra Pradesh  42.6   47.1  108.832784  118.0  1995.0\n339  Andhra Pradesh  71.4   37.3  108.832784  143.0  1995.0\n340  Andhra Pradesh  18.7   29.9  108.832784  142.0  1995.0\n341  Andhra Pradesh  14.0   53.2  108.832784  259.0  1995.0\n\n[91 rows x 6 columns],\n                     state        so2        no2        rspm        spm    year\n342  Andhra Pradesh  21.800000  79.100000  108.832784  332.00000  1996.0\n343  Andhra Pradesh  20.800000  57.200000  108.832784  179.00000  1996.0\n344  Andhra Pradesh  37.700000  62.900000  108.832784  304.00000  1996.0\n345  Andhra Pradesh  23.900000  29.800000  108.832784  266.00000  1996.0\n346  Andhra Pradesh  17.500000  77.600000  108.832784  220.78348  1996.0\n..              ...        ...        ...         ...        ...     ...\n433  Andhra Pradesh  10.829414  25.809623  108.832784  239.00000  1996.0\n434  Andhra Pradesh  33.000000  64.400000  108.832784  276.00000  1996.0\n435  Andhra Pradesh  20.800000  10.100000  108.832784   72.00000  1996.0\n436  Andhra Pradesh  37.200000  26.500000  108.832784  215.00000  1996.0\n437  Andhra Pradesh  34.100000  10.700000  108.832784  109.00000  1996.0\n\n[96 rows x 6 columns],\n                     state        so2         no2        rspm    spm    year\n438  Andhra Pradesh  35.300000   58.700000  108.832784  365.0  1997.0\n439  Andhra Pradesh  23.000000   55.700000  108.832784  216.0  1997.0\n440  Andhra Pradesh  73.600000  177.300000  108.832784  287.0  1997.0\n441  Andhra Pradesh  28.000000   57.100000  108.832784  438.0  1997.0\n442  Andhra Pradesh  10.829414   25.809623  108.832784   95.0  1997.0\n..              ...        ...         ...         ...    ...     ...\n531  Andhra Pradesh  10.100000   19.100000  108.832784   88.0  1997.0\n532  Andhra Pradesh  22.600000   46.900000  108.832784  245.0  1997.0\n533  Andhra Pradesh   6.000000    8.600000  108.832784   56.0  1997.0\n534  Andhra Pradesh   8.100000   25.100000  108.832784   90.0  1997.0\n535  Andhra Pradesh   6.200000   11.300000  108.832784   86.0  1997.0\n\n[98 rows x 6 columns],\n                     state   so2   no2        rspm    spm    year\n536  Andhra Pradesh  14.0  21.9  108.832784  211.0  1998.0\n537  Andhra Pradesh  10.1  20.8  108.832784  136.0  1998.0\n538  Andhra Pradesh  13.5  15.3  108.832784  169.0  1998.0\n539  Andhra Pradesh  22.3  39.9  108.832784  216.0  1998.0\n540  Andhra Pradesh  10.8  18.3  108.832784  154.0  1998.0\n..              ...   ...   ...         ...    ...     ...\n605  Andhra Pradesh  17.4  53.0  108.832784  252.0  1998.0\n606  Andhra Pradesh  17.2  32.4  108.832784  273.0  1998.0\n607  Andhra Pradesh  10.0  20.4  108.832784   64.0  1998.0\n608  Andhra Pradesh  42.3  82.4  108.832784  239.0  1998.0\n609  Andhra Pradesh  10.3  19.2  108.832784  149.0  1998.0\n\n[74 rows x 6 columns],\n                     state   so2   no2        rspm    spm    year\n610  Andhra Pradesh  17.9  30.2  108.832784  108.0  1999.0\n611  Andhra Pradesh  17.3  48.9  108.832784  345.0  1999.0\n612  Andhra Pradesh  14.2  23.6  108.832784  121.0  1999.0\n613  Andhra Pradesh   8.9  21.1  108.832784  173.0  1999.0\n614  Andhra Pradesh   8.7  21.9  108.832784   88.0  1999.0\n..              ...   ...   ...         ...    ...     ...\n713  Andhra Pradesh  15.8  14.1  108.832784  106.0  1999.0\n714  Andhra Pradesh  23.1  20.9  108.832784  253.0  1999.0\n715  Andhra Pradesh  23.6  22.8  108.832784  174.0  1999.0\n716  Andhra Pradesh   8.1   9.1  108.832784   99.0  1999.0\n717  Andhra Pradesh  22.9  60.0  108.832784  218.0  1999.0\n\n[108 rows x 6 columns],\n                     state   so2   no2        rspm    spm    year\n718  Andhra Pradesh   7.7  25.1  108.832784  375.0  2000.0\n719  Andhra Pradesh   8.4  37.8  108.832784   99.0  2000.0\n720  Andhra Pradesh  10.7  33.7  108.832784  130.0  2000.0\n721  Andhra Pradesh  23.1  21.6  108.832784  222.0  2000.0\n722  Andhra Pradesh  10.9  24.2  108.832784  129.0  2000.0\n..              ...   ...   ...         ...    ...     ...\n821  Andhra Pradesh  11.3  18.2  108.832784  101.0  2000.0\n822  Andhra Pradesh  11.1  16.9  108.832784  152.0  2000.0\n823  Andhra Pradesh   9.3  15.0  108.832784  188.0  2000.0\n824  Andhra Pradesh   9.7  12.7  108.832784   88.0  2000.0\n825  Andhra Pradesh  17.2  45.3  108.832784  246.0  2000.0\n\n[108 rows x 6 columns],\n                     state   so2   no2        rspm    spm    year\n826  Andhra Pradesh  14.4  78.3  108.832784  291.0  2001.0\n827  Andhra Pradesh  15.6  73.6  108.832784  340.0  2001.0\n828  Andhra Pradesh  14.8  39.8  108.832784  189.0  2001.0\n829  Andhra Pradesh  13.4  37.1  108.832784  220.0  2001.0\n830  Andhra Pradesh  14.1  30.3  108.832784  183.0  2001.0\n..              ...   ...   ...         ...    ...     ...\n926  Andhra Pradesh  12.1  17.9  108.832784  111.0  2001.0\n927  Andhra Pradesh  14.0  13.4  108.832784  114.0  2001.0\n928  Andhra Pradesh  18.8  21.8  108.832784  118.0  2001.0\n929  Andhra Pradesh  16.5  22.1  108.832784  104.0  2001.0\n930  Andhra Pradesh   7.0  24.4  108.832784  125.0  2001.0\n\n[105 rows x 6 columns],\n                      state   so2   no2        rspm    spm    year\n931   Andhra Pradesh   2.0  51.2  108.832784  130.0  2002.0\n932   Andhra Pradesh   2.3  65.5  108.832784  192.0  2002.0\n933   Andhra Pradesh   5.6  39.6  108.832784  241.0  2002.0\n934   Andhra Pradesh   8.8  26.2  108.832784  173.0  2002.0\n935   Andhra Pradesh   6.4  24.5  108.832784  248.0  2002.0\n...              ...   ...   ...         ...    ...     ...\n1031  Andhra Pradesh  10.0  20.1  108.832784    8.0  2002.0\n1032  Andhra Pradesh   4.5  17.6  108.832784   15.0  2002.0\n1033  Andhra Pradesh   5.0  23.8  108.832784    8.0  2002.0\n1034  Andhra Pradesh   3.8  17.4  108.832784    8.0  2002.0\n1035  Andhra Pradesh   8.0  23.0  108.832784    8.0  2002.0\n\n[105 rows x 6 columns],\n                      state   so2    no2   rspm    spm    year\n1036  Andhra Pradesh  12.9   55.8  143.7  370.7  2004.0\n1037  Andhra Pradesh  10.4   48.9  124.7  285.7  2004.0\n1038  Andhra Pradesh   7.6   50.1   88.0  221.3  2004.0\n1039  Andhra Pradesh   7.3   48.5   82.7  186.7  2004.0\n1040  Andhra Pradesh   6.8  110.3  122.3  270.7  2004.0\n...              ...   ...    ...    ...    ...     ...\n1939  Andhra Pradesh  12.0   34.0  107.0  147.0  2004.0\n1940  Andhra Pradesh  12.0   34.0  102.0  158.0  2004.0\n1941  Andhra Pradesh  10.0   31.0  101.0  155.0  2004.0\n1942  Andhra Pradesh   9.0   32.0   87.0  149.0  2004.0\n1943  Andhra Pradesh  11.0   34.0   76.0  126.0  2004.0\n\n[908 rows x 6 columns],\n                      state   so2   no2   rspm    spm    year\n1944  Andhra Pradesh   5.2  40.4  101.0  287.0  2005.0\n1945  Andhra Pradesh   5.7  40.7  140.0  408.0  2005.0\n1946  Andhra Pradesh   4.7  32.2  114.0  315.0  2005.0\n1947  Andhra Pradesh   5.0  36.3  130.0  333.0  2005.0\n1948  Andhra Pradesh   4.8  37.1  113.0  277.0  2005.0\n...              ...   ...   ...    ...    ...     ...\n2763  Andhra Pradesh  10.6  31.6   73.0  152.0  2005.0\n2764  Andhra Pradesh  10.0  31.2   70.0  145.0  2005.0\n2765  Andhra Pradesh  11.4  33.3   72.0  148.0  2005.0\n2766  Andhra Pradesh  10.7  32.5   74.0  158.0  2005.0\n2767  Andhra Pradesh  10.4  30.5   79.0  161.0  2005.0\n\n[824 rows x 6 columns],\n                      state   so2   no2   rspm    spm    year\n2768  Andhra Pradesh   5.0  27.7  122.0  295.0  2006.0\n2769  Andhra Pradesh   5.1  33.3  154.0  359.0  2006.0\n2770  Andhra Pradesh   4.9  37.6  139.0  379.0  2006.0\n2771  Andhra Pradesh   6.0  37.0  151.0  361.0  2006.0\n2772  Andhra Pradesh  11.3  69.2  175.0  467.0  2006.0\n...              ...   ...   ...    ...    ...     ...\n4594  Andhra Pradesh   8.8  31.1   99.0  211.0  2006.0\n4595  Andhra Pradesh   9.7  29.8  102.0  210.0  2006.0\n4596  Andhra Pradesh   9.2  31.3   62.0  151.0  2006.0\n4597  Andhra Pradesh   8.8  31.1   65.0  157.0  2006.0\n4598  Andhra Pradesh   9.1  31.2   62.0  150.0  2006.0\n\n[1831 rows x 6 columns],\n                      state  so2   no2   rspm    spm    year\n4599  Andhra Pradesh  5.7  40.7  136.0  367.0  2007.0\n4600  Andhra Pradesh  5.2  48.5  163.0  371.0  2007.0\n4601  Andhra Pradesh  5.6  56.9  120.0  373.0  2007.0\n4602  Andhra Pradesh  5.1  52.6  152.0  366.0  2007.0\n4603  Andhra Pradesh  5.2  37.3  116.0  378.0  2007.0\n...              ...  ...   ...    ...    ...     ...\n6664  Andhra Pradesh  9.6  31.3   94.0  172.0  2007.0\n6665  Andhra Pradesh  8.7  30.2   80.0  171.0  2007.0\n6666  Andhra Pradesh  8.4  31.8   73.0  149.0  2007.0\n6667  Andhra Pradesh  8.4  30.4   73.0  163.0  2007.0\n6668  Andhra Pradesh  8.8  29.2   69.0  141.0  2007.0\n\n[2070 rows x 6 columns],\n                      state  so2   no2   rspm    spm    year\n6669  Andhra Pradesh  5.2  31.7  105.0  311.0  2008.0\n6670  Andhra Pradesh  5.4  35.0  163.0  399.0  2008.0\n6671  Andhra Pradesh  5.5  30.3  154.0  368.0  2008.0\n6672  Andhra Pradesh  5.5  27.2  137.0  355.0  2008.0\n6673  Andhra Pradesh  4.8  24.7   94.0  225.0  2008.0\n...              ...  ...   ...    ...    ...     ...\n8924  Andhra Pradesh  7.8  27.3   95.0  178.0  2008.0\n8925  Andhra Pradesh  6.2  22.7  103.0  297.0  2008.0\n8926  Andhra Pradesh  9.3  35.4  125.0  229.0  2008.0\n8927  Andhra Pradesh  5.5  32.9  121.0  211.0  2008.0\n8928  Andhra Pradesh  6.8  30.4  104.0  184.0  2008.0\n\n[2260 rows x 6 columns],\n                       state  so2   no2  rspm    spm    year\n8929   Andhra Pradesh  4.0   9.0  79.0  191.0  2009.0\n8930   Andhra Pradesh  4.0   9.0  76.0  183.0  2009.0\n8931   Andhra Pradesh  4.0   9.0  80.0  195.0  2009.0\n8932   Andhra Pradesh  4.0   9.0  76.0  186.0  2009.0\n8933   Andhra Pradesh  4.0   9.0  75.0  180.0  2009.0\n...               ...  ...   ...   ...    ...     ...\n11011  Andhra Pradesh  4.0  13.5  87.0  217.0  2009.0\n11012  Andhra Pradesh  4.0   9.0  45.0   81.0  2009.0\n11013  Andhra Pradesh  4.0  10.2  70.0  138.0  2009.0\n11014  Andhra Pradesh  4.0  10.7  43.0  105.0  2009.0\n11015  Andhra Pradesh  4.0   9.0  83.0  139.0  2009.0\n\n[2087 rows x 6 columns],\n                       state   so2   no2  rspm        spm    year\n11016  Andhra Pradesh   4.0   9.0  36.0  220.78348  2010.0\n11017  Andhra Pradesh   4.0   9.0  41.0  220.78348  2010.0\n11018  Andhra Pradesh   4.0   9.0  37.0  220.78348  2010.0\n11019  Andhra Pradesh   4.0   9.0  40.0  220.78348  2010.0\n11020  Andhra Pradesh   4.0   9.0  44.0  220.78348  2010.0\n...               ...   ...   ...   ...        ...     ...\n13300  Andhra Pradesh   2.0  15.0  81.0  220.78348  2010.0\n13301  Andhra Pradesh   4.0  11.0  95.0  220.78348  2010.0\n13302  Andhra Pradesh   8.0   5.0  86.0  220.78348  2010.0\n13303  Andhra Pradesh  11.0   6.0  76.0  220.78348  2010.0\n13304  Andhra Pradesh   2.0   6.0  83.0  220.78348  2010.0\n\n[2289 rows x 6 columns],\n                       state   so2   no2  rspm        spm    year\n13305  Andhra Pradesh   4.0   9.0  38.0  102.00000  2011.0\n13306  Andhra Pradesh   4.0   9.0  41.0  105.00000  2011.0\n13307  Andhra Pradesh   4.0   9.0  36.0   98.00000  2011.0\n13308  Andhra Pradesh   4.0   9.0  42.0  113.00000  2011.0\n13309  Andhra Pradesh   4.0   9.0  39.0  113.00000  2011.0\n...               ...   ...   ...   ...        ...     ...\n14707  Andhra Pradesh   2.5   7.3  31.0   76.00000  2011.0\n14708  Andhra Pradesh   2.8   7.6  23.0   52.00000  2011.0\n14709  Andhra Pradesh   2.5  18.0  22.0   56.00000  2011.0\n14710  Andhra Pradesh   5.0  16.4  28.0   62.00000  2011.0\n14711  Andhra Pradesh  10.0  63.0  87.0  220.78348  2011.0\n\n[1407 rows x 6 columns],\n                       state  so2   no2  rspm        spm    year\n14712  Andhra Pradesh  5.0  10.0  75.0  220.78348  2012.0\n14713  Andhra Pradesh  5.0  10.0  74.0  220.78348  2012.0\n14714  Andhra Pradesh  5.0  10.0  72.0  220.78348  2012.0\n14715  Andhra Pradesh  5.0  10.0  72.0  220.78348  2012.0\n14716  Andhra Pradesh  5.0  11.0  77.0  220.78348  2012.0\n...               ...  ...   ...   ...        ...     ...\n17201  Andhra Pradesh  4.0   9.0  10.0  220.78348  2012.0\n17202  Andhra Pradesh  4.0   9.0  13.0  220.78348  2012.0\n17203  Andhra Pradesh  9.0   9.0  41.0  220.78348  2012.0\n17204  Andhra Pradesh  4.0   9.0  45.0  220.78348  2012.0\n17205  Andhra Pradesh  4.0   9.0  35.0  220.78348  2012.0\n\n[2494 rows x 6 columns],\n                       state  so2   no2  rspm        spm    year\n17206  Andhra Pradesh  4.0   9.0  69.0  220.78348  2013.0\n17207  Andhra Pradesh  4.0   9.0  71.0  220.78348  2013.0\n17208  Andhra Pradesh  4.0   9.0  69.0  220.78348  2013.0\n17209  Andhra Pradesh  4.0   9.0  70.0  220.78348  2013.0\n17210  Andhra Pradesh  4.0   9.0  84.0  220.78348  2013.0\n...               ...  ...   ...   ...        ...     ...\n21421  Andhra Pradesh  5.0  10.0  90.0  220.78348  2013.0\n21422  Andhra Pradesh  4.0   9.0  48.0  220.78348  2013.0\n21423  Andhra Pradesh  4.0  10.0  70.0  220.78348  2013.0\n21424  Andhra Pradesh  5.0  10.0  88.0  220.78348  2013.0\n21425  Andhra Pradesh  4.0   9.0  96.0  220.78348  2013.0\n\n[4220 rows x 6 columns],\n                       state   so2   no2   rspm        spm    year\n21426  Andhra Pradesh   4.0   9.0  111.0  220.78348  2014.0\n21427  Andhra Pradesh   4.0   9.0  118.0  220.78348  2014.0\n21428  Andhra Pradesh   4.0   9.0   87.0  220.78348  2014.0\n21429  Andhra Pradesh   4.0   9.0   85.0  220.78348  2014.0\n21430  Andhra Pradesh   4.0   9.0   86.0  220.78348  2014.0\n...               ...   ...   ...    ...        ...     ...\n23748  Andhra Pradesh   6.0  12.0   94.0  220.78348  2014.0\n23749  Andhra Pradesh  11.0  20.0   75.0  220.78348  2014.0\n23750  Andhra Pradesh   8.0  18.0   90.0  220.78348  2014.0\n23751  Andhra Pradesh   8.0  21.0   73.0  220.78348  2014.0\n23752  Andhra Pradesh  14.0  32.0   86.0  220.78348  2014.0\n\n[2327 rows x 6 columns],\n                       state  so2   no2  rspm        spm    year\n23753  Andhra Pradesh  9.0  18.0  46.0  220.78348  2015.0\n23754  Andhra Pradesh  8.0  18.0  27.0  220.78348  2015.0\n23755  Andhra Pradesh  9.0  15.0  29.0  220.78348  2015.0\n23756  Andhra Pradesh  7.0  17.0  78.0  220.78348  2015.0\n23757  Andhra Pradesh  9.0  23.0  35.0  220.78348  2015.0\n...               ...  ...   ...   ...        ...     ...\n26363  Andhra Pradesh  7.0  13.0  71.0  220.78348  2015.0\n26364  Andhra Pradesh  7.0  18.0  77.0  220.78348  2015.0\n26365  Andhra Pradesh  8.0  23.0  64.0  220.78348  2015.0\n26366  Andhra Pradesh  7.0  19.0  61.0  220.78348  2015.0\n26367  Andhra Pradesh  6.0  17.0  71.0  220.78348  2015.0\n\n[2615 rows x 6 columns]], dtype=object)"
          ]
        },
        {
          "output_type": "display_data",
          "data": {
            "image/png": "[encoded data removed]",
            "text/plain": [
              "<Figure size 432x288 with 1 Axes>"
            ]
          },
          "metadata": {
            "tags": [],
            "needs_background": "light"
          }
        }
      ]
    },
    {
      "cell_type": "markdown",
      "metadata": {
        "id": "oyZmNHTcVJlg"
      },
      "source": [
        "Do you find anythumg alarming? Explain what you can conclude from this Exploratory Data Analysis for the State of Andhra Pradesh. Enter your answer here .....\n",
        "\n"
      ]
    },
    {
      "cell_type": "markdown",
      "metadata": {
        "id": "OVIyBcEgldHJ"
      },
      "source": [
        "Based on the ap1 dataframe, rspm has decreased from a consistent 108 in 1990, to less than 80 in 2015. Spm has remained consistent around 220. No2 continues to fluctuate between 15-28. Finally, so2 has a slight increased range of values between 7-9 by 2015. \r\n"
      ]
    }
  ]
}