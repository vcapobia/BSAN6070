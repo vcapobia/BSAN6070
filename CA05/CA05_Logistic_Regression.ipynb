{
  "nbformat": 4,
  "nbformat_minor": 0,
  "metadata": {
    "colab": {
      "name": "CA05-Logistic Regression.ipynb",
      "provenance": []
    },
    "kernelspec": {
      "name": "python3",
      "display_name": "Python 3"
    },
    "language_info": {
      "name": "python"
    }
  },
  "cells": [
    {
      "cell_type": "markdown",
      "metadata": {
        "id": "SynToGO8o4VH"
      },
      "source": [
        "Part 1: Logistic Regression Model"
      ]
    },
    {
      "cell_type": "code",
      "metadata": {
        "id": "7n5BZxFMoxCl"
      },
      "source": [
        "#import necessary packages\n",
        "import pandas as pd\n",
        "import numpy as np\n",
        "from sklearn import linear_model\n",
        "\n",
        "#read csv file into a DataFrame\n",
        "df = pd.read_csv('cvd_data.csv')"
      ],
      "execution_count": 40,
      "outputs": []
    },
    {
      "cell_type": "code",
      "metadata": {
        "colab": {
          "base_uri": "https://localhost:8080/",
          "height": 618
        },
        "id": "XHTN6vd_tgCh",
        "outputId": "5c517454-2fb8-42d6-8120-961a5a938928"
      },
      "source": [
        "#Inspect Data\n",
        "df.info()\n",
        "df.isnull().sum()\n",
        "#data is made up of integers and floats, no null values \n",
        "df.head(5)\n",
        "#16 columns and 3242 rows"
      ],
      "execution_count": 41,
      "outputs": [
        {
          "output_type": "stream",
          "text": [
            "<class 'pandas.core.frame.DataFrame'>\n",
            "RangeIndex: 3242 entries, 0 to 3241\n",
            "Data columns (total 17 columns):\n",
            " #   Column        Non-Null Count  Dtype  \n",
            "---  ------        --------------  -----  \n",
            " 0   cvd_4types    3242 non-null   int64  \n",
            " 1   age_s1        3242 non-null   int64  \n",
            " 2   race          3242 non-null   int64  \n",
            " 3   educat        3242 non-null   int64  \n",
            " 4   mstat         3242 non-null   int64  \n",
            " 5   hip           3242 non-null   float64\n",
            " 6   neck20        3242 non-null   float64\n",
            " 7   waist         3242 non-null   float64\n",
            " 8   av_weight_kg  3242 non-null   float64\n",
            " 9   cgpkyr        3242 non-null   float64\n",
            " 10  tea15         3242 non-null   int64  \n",
            " 11  srhype        3242 non-null   int64  \n",
            " 12  parrptdiab    3242 non-null   int64  \n",
            " 13  bend25        3242 non-null   int64  \n",
            " 14  happy25       3242 non-null   int64  \n",
            " 15  tired25       3242 non-null   int64  \n",
            " 16  hlthlm25      3242 non-null   int64  \n",
            "dtypes: float64(5), int64(12)\n",
            "memory usage: 430.7 KB\n"
          ],
          "name": "stdout"
        },
        {
          "output_type": "execute_result",
          "data": {
            "text/html": [
              "<div>\n",
              "<style scoped>\n",
              "    .dataframe tbody tr th:only-of-type {\n",
              "        vertical-align: middle;\n",
              "    }\n",
              "\n",
              "    .dataframe tbody tr th {\n",
              "        vertical-align: top;\n",
              "    }\n",
              "\n",
              "    .dataframe thead th {\n",
              "        text-align: right;\n",
              "    }\n",
              "</style>\n",
              "<table border=\"1\" class=\"dataframe\">\n",
              "  <thead>\n",
              "    <tr style=\"text-align: right;\">\n",
              "      <th></th>\n",
              "      <th>cvd_4types</th>\n",
              "      <th>age_s1</th>\n",
              "      <th>race</th>\n",
              "      <th>educat</th>\n",
              "      <th>mstat</th>\n",
              "      <th>hip</th>\n",
              "      <th>neck20</th>\n",
              "      <th>waist</th>\n",
              "      <th>av_weight_kg</th>\n",
              "      <th>cgpkyr</th>\n",
              "      <th>tea15</th>\n",
              "      <th>srhype</th>\n",
              "      <th>parrptdiab</th>\n",
              "      <th>bend25</th>\n",
              "      <th>happy25</th>\n",
              "      <th>tired25</th>\n",
              "      <th>hlthlm25</th>\n",
              "    </tr>\n",
              "  </thead>\n",
              "  <tbody>\n",
              "    <tr>\n",
              "      <th>0</th>\n",
              "      <td>0</td>\n",
              "      <td>54</td>\n",
              "      <td>1</td>\n",
              "      <td>2</td>\n",
              "      <td>1</td>\n",
              "      <td>110.0</td>\n",
              "      <td>40.0</td>\n",
              "      <td>108.0</td>\n",
              "      <td>87.5</td>\n",
              "      <td>34.0</td>\n",
              "      <td>0</td>\n",
              "      <td>1</td>\n",
              "      <td>0</td>\n",
              "      <td>1</td>\n",
              "      <td>2</td>\n",
              "      <td>3</td>\n",
              "      <td>4</td>\n",
              "    </tr>\n",
              "    <tr>\n",
              "      <th>1</th>\n",
              "      <td>0</td>\n",
              "      <td>56</td>\n",
              "      <td>3</td>\n",
              "      <td>2</td>\n",
              "      <td>1</td>\n",
              "      <td>113.0</td>\n",
              "      <td>34.0</td>\n",
              "      <td>107.0</td>\n",
              "      <td>83.5</td>\n",
              "      <td>0.0</td>\n",
              "      <td>0</td>\n",
              "      <td>0</td>\n",
              "      <td>0</td>\n",
              "      <td>2</td>\n",
              "      <td>2</td>\n",
              "      <td>1</td>\n",
              "      <td>3</td>\n",
              "    </tr>\n",
              "    <tr>\n",
              "      <th>2</th>\n",
              "      <td>0</td>\n",
              "      <td>54</td>\n",
              "      <td>1</td>\n",
              "      <td>3</td>\n",
              "      <td>1</td>\n",
              "      <td>110.0</td>\n",
              "      <td>44.5</td>\n",
              "      <td>105.0</td>\n",
              "      <td>86.2</td>\n",
              "      <td>49.5</td>\n",
              "      <td>0</td>\n",
              "      <td>0</td>\n",
              "      <td>0</td>\n",
              "      <td>3</td>\n",
              "      <td>2</td>\n",
              "      <td>6</td>\n",
              "      <td>4</td>\n",
              "    </tr>\n",
              "    <tr>\n",
              "      <th>3</th>\n",
              "      <td>0</td>\n",
              "      <td>54</td>\n",
              "      <td>1</td>\n",
              "      <td>3</td>\n",
              "      <td>1</td>\n",
              "      <td>129.0</td>\n",
              "      <td>42.5</td>\n",
              "      <td>110.0</td>\n",
              "      <td>89.1</td>\n",
              "      <td>0.0</td>\n",
              "      <td>0</td>\n",
              "      <td>0</td>\n",
              "      <td>0</td>\n",
              "      <td>3</td>\n",
              "      <td>2</td>\n",
              "      <td>1</td>\n",
              "      <td>3</td>\n",
              "    </tr>\n",
              "    <tr>\n",
              "      <th>4</th>\n",
              "      <td>0</td>\n",
              "      <td>51</td>\n",
              "      <td>3</td>\n",
              "      <td>2</td>\n",
              "      <td>1</td>\n",
              "      <td>122.0</td>\n",
              "      <td>37.0</td>\n",
              "      <td>113.0</td>\n",
              "      <td>81.3</td>\n",
              "      <td>0.0</td>\n",
              "      <td>0</td>\n",
              "      <td>0</td>\n",
              "      <td>0</td>\n",
              "      <td>2</td>\n",
              "      <td>1</td>\n",
              "      <td>1</td>\n",
              "      <td>2</td>\n",
              "    </tr>\n",
              "  </tbody>\n",
              "</table>\n",
              "</div>"
            ],
            "text/plain": [
              "   cvd_4types  age_s1  race  educat  ...  bend25  happy25  tired25  hlthlm25\n",
              "0           0      54     1       2  ...       1        2        3         4\n",
              "1           0      56     3       2  ...       2        2        1         3\n",
              "2           0      54     1       3  ...       3        2        6         4\n",
              "3           0      54     1       3  ...       3        2        1         3\n",
              "4           0      51     3       2  ...       2        1        1         2\n",
              "\n",
              "[5 rows x 17 columns]"
            ]
          },
          "metadata": {
            "tags": []
          },
          "execution_count": 41
        }
      ]
    },
    {
      "cell_type": "code",
      "metadata": {
        "id": "w8kQuUs6R5tf"
      },
      "source": [
        "#split data into X and y variables for training and testing\n",
        "y = df[['cvd_4types']]      \n",
        "X  = df[['age_s1', 'race', 'educat','mstat','hip','neck20','waist','av_weight_kg', 'cgpkyr', 'tea15', 'srhype', 'parrptdiab', 'bend25', 'happy25', 'tired25','hlthlm25']]"
      ],
      "execution_count": 42,
      "outputs": []
    },
    {
      "cell_type": "code",
      "metadata": {
        "id": "LhJ2ZLWZJqQQ"
      },
      "source": [
        "#create testing set (30% of data) and training set (70% of data)\n",
        "from sklearn.model_selection import train_test_split\n",
        "X_train, X_test, Y_train, Y_test = train_test_split(X, y, test_size=0.3, train_size = 0.7)"
      ],
      "execution_count": 43,
      "outputs": []
    },
    {
      "cell_type": "code",
      "metadata": {
        "colab": {
          "base_uri": "https://localhost:8080/"
        },
        "id": "YAxtD1nrpunH",
        "outputId": "3790cb35-1382-4e8e-d09d-74353d164493"
      },
      "source": [
        "#Train Model using Logistic Regression classifier\n",
        "clf = linear_model.LogisticRegression(C=1.0, solver='newton-cg')\n",
        "model1 = clf.fit(X_train, Y_train)\n",
        "#Make Prediction\n",
        "y_pred = clf.predict(X_test)"
      ],
      "execution_count": 44,
      "outputs": [
        {
          "output_type": "stream",
          "text": [
            "/usr/local/lib/python3.7/dist-packages/sklearn/utils/validation.py:760: DataConversionWarning: A column-vector y was passed when a 1d array was expected. Please change the shape of y to (n_samples, ), for example using ravel().\n",
            "  y = column_or_1d(y, warn=True)\n"
          ],
          "name": "stderr"
        }
      ]
    },
    {
      "cell_type": "markdown",
      "metadata": {
        "id": "KWDr5vQ-o9cs"
      },
      "source": [
        "Part 2: Display Feature Importance"
      ]
    },
    {
      "cell_type": "code",
      "metadata": {
        "colab": {
          "base_uri": "https://localhost:8080/"
        },
        "id": "bbgJ6E8W_bP3",
        "outputId": "5f9e0bd1-c0e7-4512-8595-28eed1cf2449"
      },
      "source": [
        "#Get Coefficients\n",
        "from sklearn.linear_model import LogisticRegression\n",
        "m = LogisticRegression()\n",
        "m.fit(X / np.std(X, 0), y) #convert data into 'standardized' data before training\n",
        "print(np.round(m.coef_, decimals=2)) #round to 2 decimals for readability and display coefficients\n",
        "print(df.columns) #print column headings and coefficients to be matched in a dictionary \n",
        "sorted_features = [{'waist':'1.13', #create dictionary with feature name and coefficient in desc order\n",
        "                   'educat':'0.18',\n",
        "                    'parrptdiab':'0.16',\n",
        "                    'tired25':'0.12',\n",
        "                    'bend25':'0.09',\n",
        "                    'srhype':'0.07',\n",
        "                    'age_s1':'0.01',\n",
        "                    'cgpkyr': '0',\n",
        "                    'tea15':'-0.07',\n",
        "                    'happy25':'-0.08',\n",
        "                    'hip':'-0.6',\n",
        "                    'mstat':'-0.14',\n",
        "                    'neck20': '-0.18', \n",
        "                    'av_weight_kg': '-0.23',\n",
        "                    'hlthlm25':'-0.36', \n",
        "                    'race':'-0.37'}]\n"
      ],
      "execution_count": 45,
      "outputs": [
        {
          "output_type": "stream",
          "text": [
            "/usr/local/lib/python3.7/dist-packages/sklearn/utils/validation.py:760: DataConversionWarning: A column-vector y was passed when a 1d array was expected. Please change the shape of y to (n_samples, ), for example using ravel().\n",
            "  y = column_or_1d(y, warn=True)\n"
          ],
          "name": "stderr"
        },
        {
          "output_type": "stream",
          "text": [
            "[[ 0.01 -0.37  0.18 -0.14 -0.6  -0.18  1.13 -0.23  0.   -0.07  0.07  0.16\n",
            "   0.09 -0.08  0.12 -0.36]]\n",
            "Index(['cvd_4types', 'age_s1', 'race', 'educat', 'mstat', 'hip', 'neck20',\n",
            "       'waist', 'av_weight_kg', 'cgpkyr', 'tea15', 'srhype', 'parrptdiab',\n",
            "       'bend25', 'happy25', 'tired25', 'hlthlm25'],\n",
            "      dtype='object')\n"
          ],
          "name": "stdout"
        }
      ]
    },
    {
      "cell_type": "code",
      "metadata": {
        "colab": {
          "base_uri": "https://localhost:8080/"
        },
        "id": "aTpWAwFqSaNk",
        "outputId": "d4deff6f-c1c3-4d1c-af23-91ab93ca4415"
      },
      "source": [
        "print(sorted_features) #display features with most impact on CVD in DESC order\n",
        "#Top 3 Important Features are Waist, Educat, and Parrptdiab"
      ],
      "execution_count": 46,
      "outputs": [
        {
          "output_type": "stream",
          "text": [
            "[{'waist': '1.13', 'educat': '0.18', 'parrptdiab': '0.16', 'tired25': '0.12', 'bend25': '0.09', 'srhype': '0.07', 'age_s1': '0.01', 'cgpkyr': '0', 'tea15': '-0.07', 'happy25': '-0.08', 'hip': '-0.6', 'mstat': '-0.14', 'neck20': '-0.18', 'av_weight_kg': '-0.23', 'hlthlm25': '-0.36', 'race': '-0.37'}]\n"
          ],
          "name": "stdout"
        }
      ]
    },
    {
      "cell_type": "markdown",
      "metadata": {
        "id": "Kns6ISHEpDOc"
      },
      "source": [
        "Part 3: Evaluate Model Performance"
      ]
    },
    {
      "cell_type": "code",
      "metadata": {
        "id": "HNGrvuTWQ4AM",
        "colab": {
          "base_uri": "https://localhost:8080/"
        },
        "outputId": "386c3c75-008d-4635-8991-a709e1f1dd98"
      },
      "source": [
        "#import Metrics to evaluate model performance\n",
        "from sklearn import metrics\n",
        "\n",
        "#Accuracy Score\n",
        "print(metrics.accuracy_score(Y_test, y_pred))\n",
        "\n",
        "#Precision\n",
        "print(metrics.precision_score(Y_test, y_pred))\n",
        "\n",
        "#Recall\n",
        "print(metrics.recall_score(Y_test, y_pred))\n",
        "\n",
        "#F1 Score\n",
        "print(metrics.f1_score(Y_test, y_pred))\n",
        "\n",
        "#ROC Curve\n",
        "print(metrics.roc_curve(Y_test, y_pred))\n",
        "\n",
        "#Moderate Accuracy at 67%, strong Recall at 83%\n",
        "#See PDF for further explanation"
      ],
      "execution_count": 47,
      "outputs": [
        {
          "output_type": "stream",
          "text": [
            "0.6998972250770812\n",
            "0.699438202247191\n",
            "0.8645833333333334\n",
            "0.7732919254658386\n",
            "(array([0.        , 0.53904282, 1.        ]), array([0.        , 0.86458333, 1.        ]), array([2, 1, 0]))\n"
          ],
          "name": "stdout"
        }
      ]
    }
  ]
}